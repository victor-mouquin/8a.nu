{
 "cells": [
  {
   "cell_type": "markdown",
   "metadata": {},
   "source": [
    "The data can be downloaded from this website: <br>\n",
    "    https://www.kaggle.com/dcohen21/8anu-climbing-logbook <br>\n",
    "The files should be put in the same folder as this notebook"
   ]
  },
  {
   "cell_type": "code",
   "execution_count": null,
   "metadata": {},
   "outputs": [],
   "source": [
    "import numpy as np\n",
    "import matplotlib.pyplot as plt \n",
    "import pandas as pd"
   ]
  },
  {
   "cell_type": "code",
   "execution_count": null,
   "metadata": {},
   "outputs": [],
   "source": [
    "#import connect\n",
    "from sqlite3 import connect"
   ]
  },
  {
   "cell_type": "markdown",
   "metadata": {},
   "source": [
    "## Opening the databases"
   ]
  },
  {
   "cell_type": "code",
   "execution_count": null,
   "metadata": {},
   "outputs": [],
   "source": [
    "def qry(q, connection = connect(\"database.sqlite\")):\n",
    "    df = pd.read_sql_query(q, connection)\n",
    "    connection.close\n",
    "    return df"
   ]
  },
  {
   "cell_type": "markdown",
   "metadata": {},
   "source": [
    "The database consists of 4 tables: users, method, grade, ascent"
   ]
  },
  {
   "cell_type": "code",
   "execution_count": null,
   "metadata": {},
   "outputs": [],
   "source": [
    "tables = qry(\"SELECT name FROM sqlite_master\")\n",
    "tables"
   ]
  },
  {
   "cell_type": "code",
   "execution_count": null,
   "metadata": {},
   "outputs": [],
   "source": [
    "%%time\n",
    "df_user = qry(\"SELECT * FROM USER\")# 62'593 users x 22 columns\n",
    "df_grade = qry(\"SELECT * FROM grade\")# 83 grades x 14 columns\n",
    "df_method = qry(\"SELECT * FROM method\")# 5 methods x 4 columns\n",
    "df_ascent = qry(\"SELECT * FROM ascent\")# 4'111'877 ascents x 28 columns"
   ]
  },
  {
   "cell_type": "markdown",
   "metadata": {},
   "source": [
    "&&&&&&&&&&&&&&&&&&&&&&&&&"
   ]
  },
  {
   "cell_type": "code",
   "execution_count": null,
   "metadata": {},
   "outputs": [],
   "source": [
    "df_user.columns"
   ]
  },
  {
   "cell_type": "code",
   "execution_count": null,
   "metadata": {},
   "outputs": [],
   "source": [
    "df_grade.columns"
   ]
  },
  {
   "cell_type": "code",
   "execution_count": null,
   "metadata": {},
   "outputs": [],
   "source": [
    "df_ascent.columns"
   ]
  },
  {
   "cell_type": "markdown",
   "metadata": {},
   "source": [
    "<b> climb type: 0 = sport, 1 = boulder </b>"
   ]
  },
  {
   "cell_type": "code",
   "execution_count": null,
   "metadata": {},
   "outputs": [],
   "source": [
    "df_method"
   ]
  },
  {
   "cell_type": "code",
   "execution_count": null,
   "metadata": {},
   "outputs": [],
   "source": [
    "%%time\n",
    "df_user.set_index('id', inplace = True)\n",
    "df_grade.set_index('id', inplace = True) #Set the column 'id' to be the index.\n",
    "df_ascent.set_index('id', inplace = True)  #Set the column 'id' to be the index."
   ]
  },
  {
   "cell_type": "markdown",
   "metadata": {},
   "source": [
    "###### Grade ID"
   ]
  },
  {
   "cell_type": "code",
   "execution_count": null,
   "metadata": {},
   "outputs": [],
   "source": [
    "def grade_id(grade):\n",
    "    \"\"\"\n",
    "    Given a grade (given as a string), returns its id number. \n",
    "    \"\"\"\n",
    "    row = 0\n",
    "    exit = False \n",
    "    while not exit:\n",
    "        line = df_grade.iloc[row].values\n",
    "        if grade in line:\n",
    "            exit = True \n",
    "            return df_grade.index[row]\n",
    "        else: row = row +1"
   ]
  },
  {
   "cell_type": "markdown",
   "metadata": {},
   "source": [
    "### Extracting active climbers"
   ]
  },
  {
   "cell_type": "markdown",
   "metadata": {},
   "source": [
    "We extract the \"active\" climbers, i.e the users with recorded ascents. "
   ]
  },
  {
   "cell_type": "code",
   "execution_count": null,
   "metadata": {},
   "outputs": [],
   "source": [
    "A = set(df_ascent['user_id'])\n",
    "B = set(df_user.index)\n",
    "active_users = A.intersection(B)"
   ]
  },
  {
   "cell_type": "code",
   "execution_count": null,
   "metadata": {},
   "outputs": [],
   "source": [
    "print(f\"There are {len(A.difference(B))} climbers in the ascent database which do not correspond to anyone in the user database!!\")"
   ]
  },
  {
   "cell_type": "code",
   "execution_count": null,
   "metadata": {},
   "outputs": [],
   "source": [
    "df_active_user = df_user.loc[active_users]\n",
    "df_active_user.head()"
   ]
  },
  {
   "cell_type": "code",
   "execution_count": null,
   "metadata": {},
   "outputs": [],
   "source": [
    "df_active_user.shape"
   ]
  },
  {
   "cell_type": "markdown",
   "metadata": {},
   "source": [
    "### Extracting various years"
   ]
  },
  {
   "cell_type": "code",
   "execution_count": null,
   "metadata": {},
   "outputs": [],
   "source": [
    "def extract_year(Series, nullValue):\n",
    "    \"\"\"\n",
    "    Given a Series of dates, replaces every occurance of 'nullValue' by a np.nan, and extract the year of the \n",
    "    admissible dates. \n",
    "    \"\"\"\n",
    "    nullYear = Series == nullValue\n",
    "    Series[nullYear] = np.nan\n",
    "    Series = Series.apply(lambda row: row.year)\n",
    "    \n",
    "    return Series\n",
    "    \n",
    "def old_extract_year(Series, nullValue):\n",
    "    for date in Series.index:\n",
    "        if Series[date] == nullValue:\n",
    "            Series[date] = np.nan\n",
    "        else:\n",
    "            S_year = Series[date].year\n",
    "            Series[date] = S_year"
   ]
  },
  {
   "cell_type": "markdown",
   "metadata": {},
   "source": [
    "##### Birthyears of active users"
   ]
  },
  {
   "cell_type": "code",
   "execution_count": null,
   "metadata": {},
   "outputs": [],
   "source": [
    "%%time\n",
    "birthyears = pd.to_datetime(df_active_user['birth'],errors = 'coerce') \n",
    "#If ‘coerce’, then invalid parsing will be set as NaT\n",
    "birthyears = extract_year(birthyears, None)"
   ]
  },
  {
   "cell_type": "markdown",
   "metadata": {},
   "source": [
    "##### Years of ascends"
   ]
  },
  {
   "cell_type": "code",
   "execution_count": null,
   "metadata": {},
   "outputs": [],
   "source": [
    "# No funny things in the 'date' column of the ascent. It's either a unix timestamp or 0.\n",
    "df_ascent['date'][(df_ascent['date'] !=0)].min()"
   ]
  },
  {
   "cell_type": "code",
   "execution_count": null,
   "metadata": {},
   "outputs": [],
   "source": [
    "pd.to_datetime(315529200, unit = 's').year"
   ]
  },
  {
   "cell_type": "code",
   "execution_count": null,
   "metadata": {},
   "outputs": [],
   "source": [
    "%%time\n",
    "nullDate = pd.to_datetime(0, unit='s')\n",
    "sendyears = pd.to_datetime(df_ascent['date'], unit = 's')\n",
    "sendyears = extract_year(sendyears, nullDate)"
   ]
  },
  {
   "cell_type": "code",
   "execution_count": null,
   "metadata": {},
   "outputs": [],
   "source": [
    "sendyears[411123]"
   ]
  },
  {
   "cell_type": "markdown",
   "metadata": {},
   "source": [
    "##### Year started climbing"
   ]
  },
  {
   "cell_type": "markdown",
   "metadata": {},
   "source": [
    "Some active users have starting year lower than their birth year! We compute how many such active climbers there are.  "
   ]
  },
  {
   "cell_type": "code",
   "execution_count": null,
   "metadata": {},
   "outputs": [],
   "source": [
    "startedyears = df_active_user['started'].replace(0, np.nan)"
   ]
  },
  {
   "cell_type": "code",
   "execution_count": null,
   "metadata": {},
   "outputs": [],
   "source": [
    "# Some non-sensical starting years! At least it's 0 or a year number. \n",
    "df_active_user['started'][(df_active_user['started'] !=0)].min()"
   ]
  },
  {
   "cell_type": "code",
   "execution_count": null,
   "metadata": {},
   "outputs": [],
   "source": [
    "admissible = np.array([not value for value in (birthyears > startedyears)])\n",
    "print('There are only',admissible.shape[0] - admissible.sum(), 'climbers with starting year lower than their birth year.' )"
   ]
  },
  {
   "cell_type": "markdown",
   "metadata": {},
   "source": [
    "##### Age"
   ]
  },
  {
   "cell_type": "code",
   "execution_count": null,
   "metadata": {},
   "outputs": [],
   "source": [
    "ages = 2017 - birthyears #Database is from 13th Sept 2017"
   ]
  },
  {
   "cell_type": "code",
   "execution_count": null,
   "metadata": {},
   "outputs": [],
   "source": [
    "ages_nonan = ages.values[[np.isfinite(a) for a in ages.values]]\n",
    "len(ages_nonan)"
   ]
  },
  {
   "cell_type": "markdown",
   "metadata": {},
   "source": [
    "### Age and Age at which started climbing "
   ]
  },
  {
   "cell_type": "code",
   "execution_count": null,
   "metadata": {},
   "outputs": [],
   "source": [
    "ages = ages_nonan.astype('float64')\n",
    "plt.rcParams['figure.figsize'] = [12, 8]\n",
    "plt.hist(ages,bins = 50)\n",
    "plt.xlabel('Age of active climbers')\n",
    "plt.ylabel('Number of active climbers')\n",
    "plt.show"
   ]
  },
  {
   "cell_type": "code",
   "execution_count": null,
   "metadata": {},
   "outputs": [],
   "source": [
    "ages_nonan.mean()"
   ]
  },
  {
   "cell_type": "code",
   "execution_count": null,
   "metadata": {},
   "outputs": [],
   "source": [
    "ages_nonan.std()"
   ]
  },
  {
   "cell_type": "code",
   "execution_count": null,
   "metadata": {},
   "outputs": [],
   "source": [
    "age_started = startedyears - birthyears\n",
    "age_started_nonan = age_started.values[[np.isfinite(a) for a in age_started.values]]"
   ]
  },
  {
   "cell_type": "code",
   "execution_count": null,
   "metadata": {},
   "outputs": [],
   "source": [
    "plt.hist(age_started_nonan.astype('float64'), bins = 50)\n",
    "plt.axis([0, 80, 0, 5000])\n",
    "plt.xlabel('Age at which started climbing')\n",
    "plt.ylabel('Number of active climbers')\n",
    "plt.show"
   ]
  },
  {
   "cell_type": "code",
   "execution_count": null,
   "metadata": {},
   "outputs": [],
   "source": [
    "age_started_nonan.mean()"
   ]
  },
  {
   "cell_type": "code",
   "execution_count": null,
   "metadata": {},
   "outputs": [],
   "source": [
    "age_started_nonan.std()"
   ]
  },
  {
   "cell_type": "markdown",
   "metadata": {},
   "source": [
    "## Max grades with respect to physical characteristics"
   ]
  },
  {
   "cell_type": "markdown",
   "metadata": {},
   "source": [
    "##### Maximum grades"
   ]
  },
  {
   "cell_type": "code",
   "execution_count": null,
   "metadata": {},
   "outputs": [],
   "source": [
    "%%time\n",
    "#Maximum grades achieved by every active users\n",
    "max_grades = [df_ascent[(df_ascent['user_id'] == user)]['grade_id'].max() for user in df_active_user.index]\n",
    "max_grades_usa = [df_grade.loc[grade]['usa_routes'] for grade in max_grades]\n",
    "df_maxgrades = pd.Series(max_grades, index = df_active_user.index)\n",
    "df_maxgrades_usa = pd.Series(max_grades_usa, index = df_active_user.index)"
   ]
  },
  {
   "cell_type": "markdown",
   "metadata": {},
   "source": [
    "###### Gender"
   ]
  },
  {
   "cell_type": "code",
   "execution_count": null,
   "metadata": {},
   "outputs": [],
   "source": [
    "gender = df_active_user['sex']"
   ]
  },
  {
   "cell_type": "code",
   "execution_count": null,
   "metadata": {},
   "outputs": [],
   "source": [
    "print('There are', gender.sum(),'active female climbers.') # female is 1"
   ]
  },
  {
   "cell_type": "markdown",
   "metadata": {},
   "source": [
    "###### Weight"
   ]
  },
  {
   "cell_type": "code",
   "execution_count": null,
   "metadata": {},
   "outputs": [],
   "source": [
    "weight = df_active_user['weight'].replace(0, np.nan)\n",
    "weight_male = weight[(gender == 0)]\n",
    "weight_female = weight[(gender == 1)]"
   ]
  },
  {
   "cell_type": "code",
   "execution_count": null,
   "metadata": {},
   "outputs": [],
   "source": [
    "weight_male_nonan = weight_male[[np.isfinite(w) for w in weight_male.values]]\n",
    "weight_female_nonan = weight_female[[np.isfinite(w) for w in weight_female.values]]"
   ]
  },
  {
   "cell_type": "code",
   "execution_count": null,
   "metadata": {},
   "outputs": [],
   "source": [
    "maxgrades_vs_weight_male = df_maxgrades[weight_male_nonan.index]\n",
    "maxgrades_vs_weight_female = df_maxgrades[weight_female_nonan.index]"
   ]
  },
  {
   "cell_type": "code",
   "execution_count": null,
   "metadata": {},
   "outputs": [],
   "source": [
    "#Label for graphs\n",
    "usa_routes = df_grade['usa_routes']\n",
    "usa_grades = [grade for grade in usa_routes.loc[35:81] if grade != '']\n",
    "ticks = [(usa_routes == grade).idxmax() for grade in usa_routes.loc[35:81] if grade != '']"
   ]
  },
  {
   "cell_type": "code",
   "execution_count": null,
   "metadata": {},
   "outputs": [],
   "source": [
    "plt.rcParams['figure.figsize'] = [15, 8]\n",
    "plt.scatter(weight_male_nonan.astype('float64'), maxgrades_vs_weight_male.astype('float64'))\n",
    "plt.scatter(weight_female_nonan.astype('float64'), maxgrades_vs_weight_female.astype('float64'))\n",
    "plt.xlabel('Weight in kg')\n",
    "plt.ylabel('Max grades')\n",
    "plt.ylim(ymin = 35, ymax = 85)\n",
    "plt.yticks(ticks, usa_grades)\n",
    "plt.legend(['male', 'female'], loc = 2)"
   ]
  },
  {
   "cell_type": "markdown",
   "metadata": {},
   "source": [
    "###### Height"
   ]
  },
  {
   "cell_type": "code",
   "execution_count": null,
   "metadata": {},
   "outputs": [],
   "source": [
    "height = df_active_user['height'].replace(0, np.nan)\n",
    "height_male = height[(gender == 0)]\n",
    "height_female = height[(gender == 1)]"
   ]
  },
  {
   "cell_type": "code",
   "execution_count": null,
   "metadata": {},
   "outputs": [],
   "source": [
    "height_male_nonan = height_male[[np.isfinite(h) for h in height_male.values]]\n",
    "height_female_nonan = height_female[[np.isfinite(h) for h in height_female.values]]"
   ]
  },
  {
   "cell_type": "code",
   "execution_count": null,
   "metadata": {},
   "outputs": [],
   "source": [
    "maxgrades_vs_height_male = df_maxgrades[height_male_nonan.index]\n",
    "maxgrades_vs_height_female = df_maxgrades[height_female_nonan.index]"
   ]
  },
  {
   "cell_type": "code",
   "execution_count": null,
   "metadata": {},
   "outputs": [],
   "source": [
    "plt.rcParams['figure.figsize'] = [25, 12]\n",
    "plt.scatter(height_male_nonan.astype('float64'), maxgrades_vs_height_male.astype('float64'))\n",
    "plt.scatter(height_female_nonan.astype('float64'), maxgrades_vs_height_female.astype('float64'))\n",
    "plt.axis([103, 240, 0, 85])\n",
    "plt.xlabel('Height in cm')\n",
    "plt.ylabel('Max grades')\n",
    "plt.ylim(ymin = 35, ymax = 85)\n",
    "plt.yticks(ticks, usa_grades)\n",
    "plt.legend(['male', 'female'], loc = 2)"
   ]
  },
  {
   "cell_type": "code",
   "execution_count": null,
   "metadata": {},
   "outputs": [],
   "source": [
    "height_male_nonan.mean()"
   ]
  },
  {
   "cell_type": "code",
   "execution_count": null,
   "metadata": {},
   "outputs": [],
   "source": [
    "height_female_nonan.mean()"
   ]
  },
  {
   "cell_type": "markdown",
   "metadata": {},
   "source": [
    "###### BMI"
   ]
  },
  {
   "cell_type": "markdown",
   "metadata": {},
   "source": [
    "$BMI = \\frac{weight(kg)}{(height(m))^2}$"
   ]
  },
  {
   "cell_type": "code",
   "execution_count": null,
   "metadata": {},
   "outputs": [],
   "source": [
    "BMI = weight/np.sqrt(0.01*height)\n",
    "BMI_male = BMI[(gender == 0)]\n",
    "BMI_female = BMI[(gender == 1)]"
   ]
  },
  {
   "cell_type": "code",
   "execution_count": null,
   "metadata": {},
   "outputs": [],
   "source": [
    "BMI_male_nonan = BMI_male[[np.isfinite(h) for h in BMI_male.values]]\n",
    "BMI_female_nonan = BMI_female[[np.isfinite(h) for h in BMI_female.values]]"
   ]
  },
  {
   "cell_type": "code",
   "execution_count": null,
   "metadata": {},
   "outputs": [],
   "source": [
    "plt.rcParams['figure.figsize'] = [25, 12]\n",
    "plt.hist(BMI_male_nonan.astype('float64'), bins = 1000)\n",
    "plt.hist(BMI_female_nonan.astype('float64'), bins = 1000)\n",
    "plt.xlim(xmin = 30, xmax = 80)\n",
    "plt.xlabel('BMI')\n",
    "plt.ylabel('Number of active climbers')\n",
    "plt.legend(['male', 'female'], loc = 2)"
   ]
  },
  {
   "cell_type": "code",
   "execution_count": null,
   "metadata": {},
   "outputs": [],
   "source": [
    "BMI_male_nonan.mean()"
   ]
  },
  {
   "cell_type": "code",
   "execution_count": null,
   "metadata": {},
   "outputs": [],
   "source": [
    "BMI_male_nonan.std()"
   ]
  },
  {
   "cell_type": "code",
   "execution_count": null,
   "metadata": {},
   "outputs": [],
   "source": [
    "BMI_male_nonan.median()"
   ]
  },
  {
   "cell_type": "markdown",
   "metadata": {},
   "source": [
    "&&&&&&&&&&&&&&&&&&&&&&&&&&&&&\n",
    "<br>\n",
    "&&&&&&&&&&&&&&&&&&&&&&&&&&&&&"
   ]
  },
  {
   "cell_type": "markdown",
   "metadata": {},
   "source": [
    "## Average number of years to climb a grade"
   ]
  },
  {
   "cell_type": "code",
   "execution_count": null,
   "metadata": {},
   "outputs": [],
   "source": [
    "def grade_type_sends(grade, boulder = False):\n",
    "    \"\"\"\n",
    "    Returns dataframes of all ascends at given grade and climbing type, and the years of ascends.  \n",
    "    \"\"\"\n",
    "    gradeid = grade_id(grade)\n",
    "    grade_and_type = (df_ascent['grade_id'] == gradeid) & (df_ascent['climb_type'] == boulder)\n",
    "    relevent_sends = df_ascent[grade_and_type]\n",
    "    relevent_years = sendyears[grade_and_type]\n",
    "    \n",
    "    return relevent_sends, relevent_years\n",
    "\n",
    "def achieve_grade(sample, grade, boulder = False):\n",
    "    \"\"\"\n",
    "    Given a grade and a sample of active users, returns the average age and average number of climbing \n",
    "    years after which said grade was achieved. \n",
    "    Input:\n",
    "    sample: A sub-dataframe of active users.\n",
    "    grade: string\n",
    "    boulder: boolean. False is sport, True is boulder (default = False)\n",
    "    Output: (2,) array.  \n",
    "    \"\"\"\n",
    "    result = []\n",
    "    relevent_sends, relevent_years = grade_type_sends(grade, boulder)\n",
    "    for climber in sample.index:\n",
    "        years = relevent_years[(relevent_sends['user_id'] == climber)].values\n",
    "        if len(years) == 0 or pd.isnull(years).all():\n",
    "            (age, nb_years) = (np.nan, np.nan)\n",
    "        else:\n",
    "            first_year = np.nanmin(years) #np.nanmin is min ignoring the nan's\n",
    "            (age, nb_years) = (first_year - birthyears[climber], first_year - startedyears[climber])\n",
    "        result.append([age, nb_years])\n",
    "            \n",
    "    return np.nanmean(np.array(result), axis = 0) #np.nanmean is mean ignoring the nan's"
   ]
  },
  {
   "cell_type": "code",
   "execution_count": null,
   "metadata": {},
   "outputs": [],
   "source": [
    "def achieve_grades(sample, grades, boulder = False):\n",
    "    \"\"\"\n",
    "    Given a list of grades and a sample of active users, returns an np.array corresponding to the following:\n",
    "    Every row corresponds to a grade; first column is average age; second column is average number of climbing years.\n",
    "    \"\"\"\n",
    "    result = achieve_grade(sample, grades[0], boulder)\n",
    "    for grade in grades[1:]:\n",
    "        new_line = achieve_grade(sample, grade, boulder)\n",
    "        result = np.vstack((result, new_line))\n",
    "        \n",
    "    return result"
   ]
  },
  {
   "cell_type": "code",
   "execution_count": null,
   "metadata": {},
   "outputs": [],
   "source": [
    "sample = df_active_user.sample(n=1000)"
   ]
  },
  {
   "cell_type": "code",
   "execution_count": null,
   "metadata": {},
   "outputs": [],
   "source": [
    "%%time\n",
    "achieve_grade(sample, '6b+')"
   ]
  },
  {
   "cell_type": "code",
   "execution_count": null,
   "metadata": {},
   "outputs": [],
   "source": [
    "%%time\n",
    "achieve_grade(df_active_user, '7a+')"
   ]
  },
  {
   "cell_type": "code",
   "execution_count": null,
   "metadata": {},
   "outputs": [],
   "source": [
    "%%time\n",
    "average_achieve_grade = achieve_grades(sample, usa_grades)"
   ]
  },
  {
   "cell_type": "code",
   "execution_count": null,
   "metadata": {},
   "outputs": [],
   "source": [
    "%%time\n",
    "fulldataset_achieve_grade = achieve_grades(df_active_user, usa_grades)"
   ]
  },
  {
   "cell_type": "code",
   "execution_count": null,
   "metadata": {},
   "outputs": [],
   "source": [
    "plt.rcParams['figure.figsize'] = [30, 10]\n",
    "plt.scatter(usa_grades, fulldataset_achieve_grade[:,0], s = 100)\n",
    "plt.scatter(usa_grades, fulldataset_achieve_grade[:,1], s = 100)\n",
    "plt.legend(['age', 'nb of years'], loc = 2)"
   ]
  },
  {
   "cell_type": "code",
   "execution_count": null,
   "metadata": {},
   "outputs": [],
   "source": [
    "started_after_25 = df_active_user[(age_started > 25)]\n",
    "started_after_25.shape"
   ]
  },
  {
   "cell_type": "code",
   "execution_count": null,
   "metadata": {},
   "outputs": [],
   "source": [
    "%%time\n",
    "average_achieve_grade = achieve_grades(started_after_25, usa_grades)"
   ]
  },
  {
   "cell_type": "code",
   "execution_count": null,
   "metadata": {},
   "outputs": [],
   "source": [
    "plt.rcParams['figure.figsize'] = [20, 10]\n",
    "plt.scatter(usa_grades, average_achieve_grade[:,1])"
   ]
  },
  {
   "cell_type": "code",
   "execution_count": null,
   "metadata": {},
   "outputs": [],
   "source": [
    "started_after_30 = df_active_user[(age_started > 30)]\n",
    "started_after_30.shape"
   ]
  },
  {
   "cell_type": "code",
   "execution_count": null,
   "metadata": {},
   "outputs": [],
   "source": [
    "%%time\n",
    "average_achieve_grade = achieve_grades(started_after_30, usa_grades)"
   ]
  },
  {
   "cell_type": "code",
   "execution_count": null,
   "metadata": {},
   "outputs": [],
   "source": [
    "plt.rcParams['figure.figsize'] = [20, 10]\n",
    "plt.scatter(usa_grades, average_achieve_grade[:,1])"
   ]
  },
  {
   "cell_type": "code",
   "execution_count": null,
   "metadata": {},
   "outputs": [],
   "source": []
  },
  {
   "cell_type": "code",
   "execution_count": null,
   "metadata": {},
   "outputs": [],
   "source": []
  },
  {
   "cell_type": "code",
   "execution_count": null,
   "metadata": {},
   "outputs": [],
   "source": [
    "plt.scatter(sendyears[logbook_active_users[37502]], df_ascent_id.loc[logbook_active_users[37502]]['grade_id'])\n",
    "plt.yticks(ticks, usa_grades)\n",
    "plt.show"
   ]
  },
  {
   "cell_type": "code",
   "execution_count": null,
   "metadata": {},
   "outputs": [],
   "source": []
  },
  {
   "cell_type": "code",
   "execution_count": null,
   "metadata": {},
   "outputs": [],
   "source": [
    "nine_c =(df_ascent_id['grade_id'] == grade_id('9c')).idxmax()\n",
    "nine_c"
   ]
  },
  {
   "cell_type": "code",
   "execution_count": null,
   "metadata": {},
   "outputs": [],
   "source": [
    "df_ascent.loc[2407853]"
   ]
  },
  {
   "cell_type": "code",
   "execution_count": null,
   "metadata": {},
   "outputs": [],
   "source": []
  }
 ],
 "metadata": {
  "kernelspec": {
   "display_name": "Python 3",
   "language": "python",
   "name": "python3"
  },
  "language_info": {
   "codemirror_mode": {
    "name": "ipython",
    "version": 3
   },
   "file_extension": ".py",
   "mimetype": "text/x-python",
   "name": "python",
   "nbconvert_exporter": "python",
   "pygments_lexer": "ipython3",
   "version": "3.6.0"
  }
 },
 "nbformat": 4,
 "nbformat_minor": 2
}
