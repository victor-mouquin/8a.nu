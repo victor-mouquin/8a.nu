{
 "cells": [
  {
   "cell_type": "markdown",
   "metadata": {},
   "source": [
    "The data can be downloaded from this website: <br>\n",
    "    https://www.kaggle.com/dcohen21/8anu-climbing-logbook <br>\n",
    "The files should be put in the same folder as this notebook"
   ]
  },
  {
   "cell_type": "code",
   "execution_count": 1,
   "metadata": {},
   "outputs": [],
   "source": [
    "import numpy as np\n",
    "import matplotlib.pyplot as plt \n",
    "import pandas as pd"
   ]
  },
  {
   "cell_type": "code",
   "execution_count": 2,
   "metadata": {},
   "outputs": [],
   "source": [
    "from sqlite3 import connect"
   ]
  },
  {
   "cell_type": "markdown",
   "metadata": {},
   "source": [
    "## Opening the databases"
   ]
  },
  {
   "cell_type": "code",
   "execution_count": 3,
   "metadata": {},
   "outputs": [],
   "source": [
    "def qry(q, connection = connect(\"database.sqlite\")):\n",
    "    df = pd.read_sql_query(q, connection)\n",
    "    connection.close\n",
    "    return df"
   ]
  },
  {
   "cell_type": "markdown",
   "metadata": {},
   "source": [
    "The database consists of 4 tables: users, method, grade, ascent"
   ]
  },
  {
   "cell_type": "code",
   "execution_count": 4,
   "metadata": {},
   "outputs": [
    {
     "data": {
      "text/html": [
       "<div>\n",
       "<style scoped>\n",
       "    .dataframe tbody tr th:only-of-type {\n",
       "        vertical-align: middle;\n",
       "    }\n",
       "\n",
       "    .dataframe tbody tr th {\n",
       "        vertical-align: top;\n",
       "    }\n",
       "\n",
       "    .dataframe thead th {\n",
       "        text-align: right;\n",
       "    }\n",
       "</style>\n",
       "<table border=\"1\" class=\"dataframe\">\n",
       "  <thead>\n",
       "    <tr style=\"text-align: right;\">\n",
       "      <th></th>\n",
       "      <th>name</th>\n",
       "    </tr>\n",
       "  </thead>\n",
       "  <tbody>\n",
       "    <tr>\n",
       "      <th>0</th>\n",
       "      <td>user</td>\n",
       "    </tr>\n",
       "    <tr>\n",
       "      <th>1</th>\n",
       "      <td>method</td>\n",
       "    </tr>\n",
       "    <tr>\n",
       "      <th>2</th>\n",
       "      <td>grade</td>\n",
       "    </tr>\n",
       "    <tr>\n",
       "      <th>3</th>\n",
       "      <td>ascent</td>\n",
       "    </tr>\n",
       "  </tbody>\n",
       "</table>\n",
       "</div>"
      ],
      "text/plain": [
       "     name\n",
       "0    user\n",
       "1  method\n",
       "2   grade\n",
       "3  ascent"
      ]
     },
     "execution_count": 4,
     "metadata": {},
     "output_type": "execute_result"
    }
   ],
   "source": [
    "tables = qry(\"SELECT name FROM sqlite_master\")\n",
    "tables"
   ]
  },
  {
   "cell_type": "code",
   "execution_count": 5,
   "metadata": {},
   "outputs": [
    {
     "name": "stdout",
     "output_type": "stream",
     "text": [
      "CPU times: user 56.9 s, sys: 8.63 s, total: 1min 5s\n",
      "Wall time: 1min 6s\n"
     ]
    }
   ],
   "source": [
    "%%time\n",
    "df_user = qry(\"SELECT * FROM USER\")# 62'593 users x 22 columns\n",
    "df_grade = qry(\"SELECT * FROM grade\")# 83 grades x 14 columns\n",
    "df_method = qry(\"SELECT * FROM method\")# 5 methods x 4 columns\n",
    "df_ascent = qry(\"SELECT * FROM ascent\")# 4'111'877 ascents x 28 columns"
   ]
  },
  {
   "cell_type": "markdown",
   "metadata": {},
   "source": [
    "&&&&&&&&&&&&&&&&&&&&&&&&&"
   ]
  },
  {
   "cell_type": "code",
   "execution_count": 6,
   "metadata": {},
   "outputs": [
    {
     "data": {
      "text/plain": [
       "Index(['id', 'first_name', 'last_name', 'city', 'country', 'sex', 'height',\n",
       "       'weight', 'started', 'competitions', 'occupation', 'sponsor1',\n",
       "       'sponsor2', 'sponsor3', 'best_area', 'worst_area', 'guide_area',\n",
       "       'interests', 'birth', 'presentation', 'deactivated', 'anonymous'],\n",
       "      dtype='object')"
      ]
     },
     "execution_count": 6,
     "metadata": {},
     "output_type": "execute_result"
    }
   ],
   "source": [
    "df_user.columns"
   ]
  },
  {
   "cell_type": "code",
   "execution_count": 7,
   "metadata": {},
   "outputs": [
    {
     "data": {
      "text/plain": [
       "Index(['id', 'score', 'fra_routes', 'fra_routes_input', 'fra_routes_selector',\n",
       "       'fra_boulders', 'fra_boulders_input', 'fra_boulders_selector',\n",
       "       'usa_routes', 'usa_routes_input', 'usa_routes_selector', 'usa_boulders',\n",
       "       'usa_boulders_input', 'usa_boulders_selector'],\n",
       "      dtype='object')"
      ]
     },
     "execution_count": 7,
     "metadata": {},
     "output_type": "execute_result"
    }
   ],
   "source": [
    "df_grade.columns"
   ]
  },
  {
   "cell_type": "code",
   "execution_count": 8,
   "metadata": {},
   "outputs": [
    {
     "data": {
      "text/plain": [
       "Index(['id', 'user_id', 'grade_id', 'notes', 'raw_notes', 'method_id',\n",
       "       'climb_type', 'total_score', 'date', 'year', 'last_year', 'rec_date',\n",
       "       'project_ascent_date', 'name', 'crag_id', 'crag', 'sector_id', 'sector',\n",
       "       'country', 'comment', 'rating', 'description', 'yellow_id', 'climb_try',\n",
       "       'repeat', 'exclude_from_ranking', 'user_recommended', 'chipped'],\n",
       "      dtype='object')"
      ]
     },
     "execution_count": 8,
     "metadata": {},
     "output_type": "execute_result"
    }
   ],
   "source": [
    "df_ascent.columns"
   ]
  },
  {
   "cell_type": "markdown",
   "metadata": {},
   "source": [
    "<b> climb type: 0 = sport, 1 = boulder </b>"
   ]
  },
  {
   "cell_type": "code",
   "execution_count": 9,
   "metadata": {},
   "outputs": [
    {
     "data": {
      "text/html": [
       "<div>\n",
       "<style scoped>\n",
       "    .dataframe tbody tr th:only-of-type {\n",
       "        vertical-align: middle;\n",
       "    }\n",
       "\n",
       "    .dataframe tbody tr th {\n",
       "        vertical-align: top;\n",
       "    }\n",
       "\n",
       "    .dataframe thead th {\n",
       "        text-align: right;\n",
       "    }\n",
       "</style>\n",
       "<table border=\"1\" class=\"dataframe\">\n",
       "  <thead>\n",
       "    <tr style=\"text-align: right;\">\n",
       "      <th></th>\n",
       "      <th>id</th>\n",
       "      <th>score</th>\n",
       "      <th>shorthand</th>\n",
       "      <th>name</th>\n",
       "    </tr>\n",
       "  </thead>\n",
       "  <tbody>\n",
       "    <tr>\n",
       "      <th>0</th>\n",
       "      <td>1</td>\n",
       "      <td>0</td>\n",
       "      <td>redpoint</td>\n",
       "      <td>Redpoint</td>\n",
       "    </tr>\n",
       "    <tr>\n",
       "      <th>1</th>\n",
       "      <td>2</td>\n",
       "      <td>53</td>\n",
       "      <td>flash</td>\n",
       "      <td>Flash</td>\n",
       "    </tr>\n",
       "    <tr>\n",
       "      <th>2</th>\n",
       "      <td>3</td>\n",
       "      <td>145</td>\n",
       "      <td>onsight</td>\n",
       "      <td>Onsight</td>\n",
       "    </tr>\n",
       "    <tr>\n",
       "      <th>3</th>\n",
       "      <td>4</td>\n",
       "      <td>-52</td>\n",
       "      <td>toprope</td>\n",
       "      <td>Toprope</td>\n",
       "    </tr>\n",
       "    <tr>\n",
       "      <th>4</th>\n",
       "      <td>5</td>\n",
       "      <td>95</td>\n",
       "      <td>onsight</td>\n",
       "      <td>Onsight</td>\n",
       "    </tr>\n",
       "  </tbody>\n",
       "</table>\n",
       "</div>"
      ],
      "text/plain": [
       "   id  score shorthand      name\n",
       "0   1      0  redpoint  Redpoint\n",
       "1   2     53     flash     Flash\n",
       "2   3    145   onsight   Onsight\n",
       "3   4    -52   toprope   Toprope\n",
       "4   5     95   onsight   Onsight"
      ]
     },
     "execution_count": 9,
     "metadata": {},
     "output_type": "execute_result"
    }
   ],
   "source": [
    "df_method"
   ]
  },
  {
   "cell_type": "code",
   "execution_count": 10,
   "metadata": {},
   "outputs": [
    {
     "name": "stdout",
     "output_type": "stream",
     "text": [
      "CPU times: user 1.3 s, sys: 2.16 s, total: 3.46 s\n",
      "Wall time: 4.19 s\n"
     ]
    }
   ],
   "source": [
    "%%time\n",
    "df_grade.set_index('id', inplace = True) #Set the column 'id' to be the index.\n",
    "df_ascent_id = df_ascent.set_index('id') #Set the column 'id' to be the index."
   ]
  },
  {
   "cell_type": "markdown",
   "metadata": {},
   "source": [
    "###### Grade ID"
   ]
  },
  {
   "cell_type": "code",
   "execution_count": 11,
   "metadata": {},
   "outputs": [],
   "source": [
    "def grade_id(grade):\n",
    "    \"\"\"\n",
    "    Given a grade (given as a string), returns its id number. \n",
    "    \"\"\"\n",
    "    row = 0\n",
    "    exit = False \n",
    "    while not exit:\n",
    "        line = df_grade.iloc[row].values\n",
    "        if grade in line:\n",
    "            exit = True \n",
    "            return df_grade.index[row]\n",
    "        else: row = row +1"
   ]
  },
  {
   "cell_type": "markdown",
   "metadata": {},
   "source": [
    "### Extracting active climbers"
   ]
  },
  {
   "cell_type": "markdown",
   "metadata": {},
   "source": [
    "We extract the \"active\" climbers, i.e the users with recorded ascents, and define a dict called \"logbook_active_users\", whose keys are the active users, and values their ascents. <br/>"
   ]
  },
  {
   "cell_type": "code",
   "execution_count": 12,
   "metadata": {},
   "outputs": [
    {
     "name": "stdout",
     "output_type": "stream",
     "text": [
      "CPU times: user 12.2 s, sys: 1.56 s, total: 13.8 s\n",
      "Wall time: 14.2 s\n"
     ]
    }
   ],
   "source": [
    "%%time\n",
    "logbook = {} # First we cook up a \"logbook\" dict, with keys the climbers (users) and values the routes they sent.\n",
    "for user in df_user['id']:\n",
    "    logbook[user] = []\n",
    "for route in df_ascent.itertuples():\n",
    "    if getattr(route, 'user_id') in logbook:\n",
    "        logbook[getattr(route, 'user_id')].append(getattr(route, 'id'))\n",
    "    else:\n",
    "        logbook[getattr(route, 'user_id')] = [getattr(route, 'id')]"
   ]
  },
  {
   "cell_type": "code",
   "execution_count": 13,
   "metadata": {},
   "outputs": [
    {
     "name": "stdout",
     "output_type": "stream",
     "text": [
      "There are\n",
      "62596 - 62593 = 3 users\n",
      "in the ascent database which do not correspond to anyone in the user database!! \n",
      "We have added these three mysterious climbers in the logbook dict\n"
     ]
    }
   ],
   "source": [
    "print(\"There are\") \n",
    "print(len(logbook),'-',df_user.shape[0],'=',len(logbook) - df_user.shape[0], 'users') \n",
    "print(\"\"\"in the ascent database which do not correspond to anyone in the user database!! \n",
    "We have added these three mysterious climbers in the logbook dict\"\"\")"
   ]
  },
  {
   "cell_type": "code",
   "execution_count": 14,
   "metadata": {},
   "outputs": [
    {
     "name": "stdout",
     "output_type": "stream",
     "text": [
      "There are 36034 active climbers in the users database\n"
     ]
    }
   ],
   "source": [
    "logbook_active_users = {} # Getting rid in logbook of climbers with no recorded ascents\n",
    "for user in logbook:\n",
    "    if logbook[user] != []:\n",
    "        logbook_active_users[user] = logbook[user]\n",
    "print('There are', len(logbook_active_users), 'active climbers in the users database')"
   ]
  },
  {
   "cell_type": "code",
   "execution_count": 15,
   "metadata": {},
   "outputs": [
    {
     "data": {
      "text/plain": [
       "(36031, 21)"
      ]
     },
     "execution_count": 15,
     "metadata": {},
     "output_type": "execute_result"
    }
   ],
   "source": [
    "active_user = [user for user in range(df_user.shape[0]) if df_user['id'][user] in logbook_active_users]\n",
    "df_active_user = df_user.loc[active_user].set_index('id') # The dataframe of active users\n",
    "df_active_user.shape"
   ]
  },
  {
   "cell_type": "code",
   "execution_count": 16,
   "metadata": {},
   "outputs": [
    {
     "data": {
      "text/html": [
       "<div>\n",
       "<style scoped>\n",
       "    .dataframe tbody tr th:only-of-type {\n",
       "        vertical-align: middle;\n",
       "    }\n",
       "\n",
       "    .dataframe tbody tr th {\n",
       "        vertical-align: top;\n",
       "    }\n",
       "\n",
       "    .dataframe thead th {\n",
       "        text-align: right;\n",
       "    }\n",
       "</style>\n",
       "<table border=\"1\" class=\"dataframe\">\n",
       "  <thead>\n",
       "    <tr style=\"text-align: right;\">\n",
       "      <th></th>\n",
       "      <th>first_name</th>\n",
       "      <th>last_name</th>\n",
       "      <th>city</th>\n",
       "      <th>country</th>\n",
       "      <th>sex</th>\n",
       "      <th>height</th>\n",
       "      <th>weight</th>\n",
       "      <th>started</th>\n",
       "      <th>competitions</th>\n",
       "      <th>occupation</th>\n",
       "      <th>...</th>\n",
       "      <th>sponsor2</th>\n",
       "      <th>sponsor3</th>\n",
       "      <th>best_area</th>\n",
       "      <th>worst_area</th>\n",
       "      <th>guide_area</th>\n",
       "      <th>interests</th>\n",
       "      <th>birth</th>\n",
       "      <th>presentation</th>\n",
       "      <th>deactivated</th>\n",
       "      <th>anonymous</th>\n",
       "    </tr>\n",
       "    <tr>\n",
       "      <th>id</th>\n",
       "      <th></th>\n",
       "      <th></th>\n",
       "      <th></th>\n",
       "      <th></th>\n",
       "      <th></th>\n",
       "      <th></th>\n",
       "      <th></th>\n",
       "      <th></th>\n",
       "      <th></th>\n",
       "      <th></th>\n",
       "      <th></th>\n",
       "      <th></th>\n",
       "      <th></th>\n",
       "      <th></th>\n",
       "      <th></th>\n",
       "      <th></th>\n",
       "      <th></th>\n",
       "      <th></th>\n",
       "      <th></th>\n",
       "      <th></th>\n",
       "      <th></th>\n",
       "    </tr>\n",
       "  </thead>\n",
       "  <tbody>\n",
       "    <tr>\n",
       "      <th>1</th>\n",
       "      <td>first</td>\n",
       "      <td>last</td>\n",
       "      <td>Göteborg</td>\n",
       "      <td>SWE</td>\n",
       "      <td>0</td>\n",
       "      <td>177</td>\n",
       "      <td>73</td>\n",
       "      <td>1996</td>\n",
       "      <td></td>\n",
       "      <td></td>\n",
       "      <td>...</td>\n",
       "      <td></td>\n",
       "      <td></td>\n",
       "      <td>Railay beach, Krabi, Thailand</td>\n",
       "      <td>None</td>\n",
       "      <td></td>\n",
       "      <td></td>\n",
       "      <td>1976-03-10</td>\n",
       "      <td></td>\n",
       "      <td>0</td>\n",
       "      <td>0</td>\n",
       "    </tr>\n",
       "    <tr>\n",
       "      <th>2</th>\n",
       "      <td>first</td>\n",
       "      <td>last</td>\n",
       "      <td>stockholm</td>\n",
       "      <td>SWE</td>\n",
       "      <td>0</td>\n",
       "      <td>0</td>\n",
       "      <td>0</td>\n",
       "      <td>2000</td>\n",
       "      <td></td>\n",
       "      <td></td>\n",
       "      <td>...</td>\n",
       "      <td></td>\n",
       "      <td></td>\n",
       "      <td></td>\n",
       "      <td></td>\n",
       "      <td></td>\n",
       "      <td></td>\n",
       "      <td>None</td>\n",
       "      <td></td>\n",
       "      <td>0</td>\n",
       "      <td>0</td>\n",
       "    </tr>\n",
       "    <tr>\n",
       "      <th>3</th>\n",
       "      <td>first</td>\n",
       "      <td>last</td>\n",
       "      <td>Umeå</td>\n",
       "      <td>SWE</td>\n",
       "      <td>0</td>\n",
       "      <td>180</td>\n",
       "      <td>78</td>\n",
       "      <td>1995</td>\n",
       "      <td></td>\n",
       "      <td></td>\n",
       "      <td>...</td>\n",
       "      <td></td>\n",
       "      <td></td>\n",
       "      <td>Hell</td>\n",
       "      <td>Umeå</td>\n",
       "      <td></td>\n",
       "      <td></td>\n",
       "      <td>1973-09-09</td>\n",
       "      <td></td>\n",
       "      <td>0</td>\n",
       "      <td>0</td>\n",
       "    </tr>\n",
       "    <tr>\n",
       "      <th>4</th>\n",
       "      <td>first</td>\n",
       "      <td>last</td>\n",
       "      <td>Goteborg</td>\n",
       "      <td>SWE</td>\n",
       "      <td>1</td>\n",
       "      <td>165</td>\n",
       "      <td>58</td>\n",
       "      <td>2001</td>\n",
       "      <td></td>\n",
       "      <td></td>\n",
       "      <td>...</td>\n",
       "      <td></td>\n",
       "      <td></td>\n",
       "      <td></td>\n",
       "      <td>None</td>\n",
       "      <td></td>\n",
       "      <td></td>\n",
       "      <td>1984-07-26</td>\n",
       "      <td></td>\n",
       "      <td>0</td>\n",
       "      <td>0</td>\n",
       "    </tr>\n",
       "    <tr>\n",
       "      <th>5</th>\n",
       "      <td>first</td>\n",
       "      <td>last</td>\n",
       "      <td>North Attleboro</td>\n",
       "      <td>USA</td>\n",
       "      <td>0</td>\n",
       "      <td>0</td>\n",
       "      <td>0</td>\n",
       "      <td>1991</td>\n",
       "      <td></td>\n",
       "      <td></td>\n",
       "      <td>...</td>\n",
       "      <td></td>\n",
       "      <td></td>\n",
       "      <td></td>\n",
       "      <td>None</td>\n",
       "      <td></td>\n",
       "      <td></td>\n",
       "      <td>1969-05-07</td>\n",
       "      <td></td>\n",
       "      <td>0</td>\n",
       "      <td>0</td>\n",
       "    </tr>\n",
       "  </tbody>\n",
       "</table>\n",
       "<p>5 rows × 21 columns</p>\n",
       "</div>"
      ],
      "text/plain": [
       "   first_name last_name             city country  sex  height  weight  \\\n",
       "id                                                                      \n",
       "1       first      last         Göteborg     SWE    0     177      73   \n",
       "2       first      last        stockholm     SWE    0       0       0   \n",
       "3       first      last             Umeå     SWE    0     180      78   \n",
       "4       first      last         Goteborg     SWE    1     165      58   \n",
       "5       first      last  North Attleboro     USA    0       0       0   \n",
       "\n",
       "    started competitions occupation    ...     sponsor2 sponsor3  \\\n",
       "id                                     ...                         \n",
       "1      1996                            ...                         \n",
       "2      2000                            ...                         \n",
       "3      1995                            ...                         \n",
       "4      2001                            ...                         \n",
       "5      1991                            ...                         \n",
       "\n",
       "                        best_area worst_area guide_area interests       birth  \\\n",
       "id                                                                              \n",
       "1   Railay beach, Krabi, Thailand       None                       1976-03-10   \n",
       "2                                                                        None   \n",
       "3                            Hell       Umeå                       1973-09-09   \n",
       "4                                       None                       1984-07-26   \n",
       "5                                       None                       1969-05-07   \n",
       "\n",
       "   presentation deactivated  anonymous  \n",
       "id                                      \n",
       "1                         0          0  \n",
       "2                         0          0  \n",
       "3                         0          0  \n",
       "4                         0          0  \n",
       "5                         0          0  \n",
       "\n",
       "[5 rows x 21 columns]"
      ]
     },
     "execution_count": 16,
     "metadata": {},
     "output_type": "execute_result"
    }
   ],
   "source": [
    "df_active_user.head()"
   ]
  },
  {
   "cell_type": "markdown",
   "metadata": {},
   "source": [
    "### Extracting various years"
   ]
  },
  {
   "cell_type": "code",
   "execution_count": 17,
   "metadata": {},
   "outputs": [],
   "source": [
    "def extract_year(Series, throw):\n",
    "    \"\"\"\n",
    "    Given a Series of dates, replaces every occurance of 'throw' by a np.nan, and extract the year of the \n",
    "    admissible dates. \n",
    "    \"\"\"\n",
    "    for date in Series.index:\n",
    "        if Series[date] == throw:\n",
    "            Series[date] = np.nan\n",
    "        else:\n",
    "            S_year = Series[date].year\n",
    "            Series[date] = S_year"
   ]
  },
  {
   "cell_type": "markdown",
   "metadata": {},
   "source": [
    "##### Birthyears of active users"
   ]
  },
  {
   "cell_type": "code",
   "execution_count": 18,
   "metadata": {},
   "outputs": [
    {
     "name": "stdout",
     "output_type": "stream",
     "text": [
      "CPU times: user 1.51 s, sys: 24.3 ms, total: 1.54 s\n",
      "Wall time: 1.56 s\n"
     ]
    }
   ],
   "source": [
    "%%time\n",
    "birthyears = pd.to_datetime(df_active_user['birth'],errors = 'coerce') \n",
    "#If ‘coerce’, then invalid parsing will be set as NaT\n",
    "extract_year(birthyears, None)"
   ]
  },
  {
   "cell_type": "markdown",
   "metadata": {},
   "source": [
    "##### Years of ascends"
   ]
  },
  {
   "cell_type": "code",
   "execution_count": 19,
   "metadata": {},
   "outputs": [
    {
     "data": {
      "text/plain": [
       "315529200"
      ]
     },
     "execution_count": 19,
     "metadata": {},
     "output_type": "execute_result"
    }
   ],
   "source": [
    "# No funny things in the 'date' column of the ascent. It's either a unix timestamp or 0.\n",
    "df_ascent['date'][(df_ascent['date'] !=0)].min()"
   ]
  },
  {
   "cell_type": "code",
   "execution_count": 20,
   "metadata": {},
   "outputs": [
    {
     "data": {
      "text/plain": [
       "1979"
      ]
     },
     "execution_count": 20,
     "metadata": {},
     "output_type": "execute_result"
    }
   ],
   "source": [
    "pd.to_datetime(315529200, unit = 's').year"
   ]
  },
  {
   "cell_type": "code",
   "execution_count": 21,
   "metadata": {},
   "outputs": [
    {
     "name": "stdout",
     "output_type": "stream",
     "text": [
      "CPU times: user 4min 50s, sys: 1.25 s, total: 4min 51s\n",
      "Wall time: 4min 53s\n"
     ]
    }
   ],
   "source": [
    "%%time\n",
    "sendyears = pd.to_datetime(df_ascent_id['date'], unit = 's')\n",
    "extract_year(sendyears, pd.to_datetime(0, unit='s'))"
   ]
  },
  {
   "cell_type": "code",
   "execution_count": 22,
   "metadata": {},
   "outputs": [
    {
     "data": {
      "text/plain": [
       "2006"
      ]
     },
     "execution_count": 22,
     "metadata": {},
     "output_type": "execute_result"
    }
   ],
   "source": [
    "sendyears[411123]"
   ]
  },
  {
   "cell_type": "markdown",
   "metadata": {},
   "source": [
    "##### Year started climbing"
   ]
  },
  {
   "cell_type": "markdown",
   "metadata": {},
   "source": [
    "Some active users have starting year lower than their birth year! We compute how many such active climbers there are.  "
   ]
  },
  {
   "cell_type": "code",
   "execution_count": 23,
   "metadata": {},
   "outputs": [],
   "source": [
    "startedyears = df_active_user['started'].replace(0, np.nan)"
   ]
  },
  {
   "cell_type": "code",
   "execution_count": 24,
   "metadata": {},
   "outputs": [
    {
     "data": {
      "text/plain": [
       "1901"
      ]
     },
     "execution_count": 24,
     "metadata": {},
     "output_type": "execute_result"
    }
   ],
   "source": [
    "# Some non-sensical starting years! At least it's 0 or a year number. \n",
    "df_active_user['started'][(df_active_user['started'] !=0)].min()"
   ]
  },
  {
   "cell_type": "code",
   "execution_count": 25,
   "metadata": {},
   "outputs": [
    {
     "name": "stdout",
     "output_type": "stream",
     "text": [
      "There are only 67 climbers with starting year lower than their birth year.\n"
     ]
    }
   ],
   "source": [
    "admissible = np.array([not value for value in (birthyears > startedyears)])\n",
    "print('There are only',admissible.shape[0] - admissible.sum(), 'climbers with starting year lower than their birth year.' )"
   ]
  },
  {
   "cell_type": "markdown",
   "metadata": {},
   "source": [
    "##### Age"
   ]
  },
  {
   "cell_type": "code",
   "execution_count": 26,
   "metadata": {},
   "outputs": [],
   "source": [
    "ages = 2017 - birthyears #Database is from 13th Sept 2017"
   ]
  },
  {
   "cell_type": "code",
   "execution_count": 27,
   "metadata": {},
   "outputs": [
    {
     "data": {
      "text/plain": [
       "21571"
      ]
     },
     "execution_count": 27,
     "metadata": {},
     "output_type": "execute_result"
    }
   ],
   "source": [
    "ages_nonan = ages.values[[np.isfinite(a) for a in ages.values]]\n",
    "len(ages_nonan)"
   ]
  },
  {
   "cell_type": "markdown",
   "metadata": {},
   "source": [
    "### Age and Age at which started climbing "
   ]
  },
  {
   "cell_type": "code",
   "execution_count": 28,
   "metadata": {},
   "outputs": [
    {
     "data": {
      "text/plain": [
       "<function matplotlib.pyplot.show>"
      ]
     },
     "execution_count": 28,
     "metadata": {},
     "output_type": "execute_result"
    },
    {
     "data": {
      "image/png": "[encoded data removed]",
      "text/plain": [
       "<matplotlib.figure.Figure at 0x108446a20>"
      ]
     },
     "metadata": {},
     "output_type": "display_data"
    }
   ],
   "source": [
    "ages = ages_nonan.astype('float64')\n",
    "plt.rcParams['figure.figsize'] = [12, 8]\n",
    "plt.hist(ages,bins = 50)\n",
    "plt.xlabel('Age of active climbers')\n",
    "plt.ylabel('Number of active climbers')\n",
    "plt.show"
   ]
  },
  {
   "cell_type": "code",
   "execution_count": 29,
   "metadata": {},
   "outputs": [
    {
     "data": {
      "text/plain": [
       "33.576051179824766"
      ]
     },
     "execution_count": 29,
     "metadata": {},
     "output_type": "execute_result"
    }
   ],
   "source": [
    "ages_nonan.mean()"
   ]
  },
  {
   "cell_type": "code",
   "execution_count": 30,
   "metadata": {},
   "outputs": [
    {
     "data": {
      "text/plain": [
       "9.755895975430299"
      ]
     },
     "execution_count": 30,
     "metadata": {},
     "output_type": "execute_result"
    }
   ],
   "source": [
    "ages_nonan.std()"
   ]
  },
  {
   "cell_type": "code",
   "execution_count": 31,
   "metadata": {},
   "outputs": [],
   "source": [
    "age_started = startedyears - birthyears\n",
    "age_started_nonan = age_started.values[[np.isfinite(a) for a in age_started.values]]"
   ]
  },
  {
   "cell_type": "code",
   "execution_count": 32,
   "metadata": {},
   "outputs": [
    {
     "data": {
      "text/plain": [
       "<function matplotlib.pyplot.show>"
      ]
     },
     "execution_count": 32,
     "metadata": {},
     "output_type": "execute_result"
    },
    {
     "data": {
      "image/png": "[encoded data removed]",
      "text/plain": [
       "<matplotlib.figure.Figure at 0x109150630>"
      ]
     },
     "metadata": {},
     "output_type": "display_data"
    }
   ],
   "source": [
    "plt.hist(age_started_nonan.astype('float64'), bins = 50)\n",
    "plt.axis([0, 80, 0, 5000])\n",
    "plt.xlabel('Age at which started climbing')\n",
    "plt.ylabel('Number of active climbers')\n",
    "plt.show"
   ]
  },
  {
   "cell_type": "code",
   "execution_count": 33,
   "metadata": {},
   "outputs": [
    {
     "data": {
      "text/plain": [
       "20.22596919808816"
      ]
     },
     "execution_count": 33,
     "metadata": {},
     "output_type": "execute_result"
    }
   ],
   "source": [
    "age_started_nonan.mean()"
   ]
  },
  {
   "cell_type": "code",
   "execution_count": 34,
   "metadata": {},
   "outputs": [
    {
     "data": {
      "text/plain": [
       "8.1830216216531451"
      ]
     },
     "execution_count": 34,
     "metadata": {},
     "output_type": "execute_result"
    }
   ],
   "source": [
    "age_started_nonan.std()"
   ]
  },
  {
   "cell_type": "markdown",
   "metadata": {},
   "source": [
    "## Max grades with respect to physical characteristics"
   ]
  },
  {
   "cell_type": "markdown",
   "metadata": {},
   "source": [
    "##### Maximum grades"
   ]
  },
  {
   "cell_type": "code",
   "execution_count": 56,
   "metadata": {},
   "outputs": [
    {
     "name": "stdout",
     "output_type": "stream",
     "text": [
      "CPU times: user 3min 42s, sys: 26.4 s, total: 4min 9s\n",
      "Wall time: 4min 10s\n"
     ]
    }
   ],
   "source": [
    "%%time\n",
    "#Maximum grades achieved by every active users\n",
    "max_grades = [df_ascent[(df_ascent['user_id'] == user)]['grade_id'].max() for user in df_active_user.index]\n",
    "max_grades_usa = [df_grade.loc[grade]['usa_routes'] for grade in max_grades]\n",
    "df_maxgrades = pd.Series(max_grades, index = df_active_user.index)\n",
    "df_maxgrades_usa = pd.Series(max_grades_usa, index = df_active_user.index)"
   ]
  },
  {
   "cell_type": "markdown",
   "metadata": {},
   "source": [
    "###### Gender"
   ]
  },
  {
   "cell_type": "code",
   "execution_count": 57,
   "metadata": {},
   "outputs": [],
   "source": [
    "gender = df_active_user['sex']"
   ]
  },
  {
   "cell_type": "code",
   "execution_count": 58,
   "metadata": {},
   "outputs": [
    {
     "name": "stdout",
     "output_type": "stream",
     "text": [
      "There are 6112 active female climbers.\n"
     ]
    }
   ],
   "source": [
    "print('There are', gender.sum(),'active female climbers.') # female is 1"
   ]
  },
  {
   "cell_type": "markdown",
   "metadata": {},
   "source": [
    "###### Weight"
   ]
  },
  {
   "cell_type": "code",
   "execution_count": 59,
   "metadata": {},
   "outputs": [],
   "source": [
    "weight = df_active_user['weight'].replace(0, np.nan)\n",
    "weight_male = weight[(gender == 0)]\n",
    "weight_female = weight[(gender == 1)]"
   ]
  },
  {
   "cell_type": "code",
   "execution_count": 60,
   "metadata": {},
   "outputs": [],
   "source": [
    "weight_male_nonan = weight_male[[np.isfinite(w) for w in weight_male.values]]\n",
    "weight_female_nonan = weight_female[[np.isfinite(w) for w in weight_female.values]]"
   ]
  },
  {
   "cell_type": "code",
   "execution_count": 61,
   "metadata": {},
   "outputs": [],
   "source": [
    "maxgrades_vs_weight_male = df_maxgrades[weight_male_nonan.index]\n",
    "maxgrades_vs_weight_female = df_maxgrades[weight_female_nonan.index]"
   ]
  },
  {
   "cell_type": "code",
   "execution_count": 62,
   "metadata": {},
   "outputs": [],
   "source": [
    "#Label for graphs\n",
    "usa_routes = df_grade['usa_routes']\n",
    "usa_grades = [grade for grade in usa_routes.loc[35:81] if grade != '']\n",
    "ticks = [(usa_routes == grade).idxmax() for grade in usa_routes.loc[35:81] if grade != '']"
   ]
  },
  {
   "cell_type": "code",
   "execution_count": 63,
   "metadata": {},
   "outputs": [
    {
     "data": {
      "text/plain": [
       "<matplotlib.legend.Legend at 0x1a8183d68>"
      ]
     },
     "execution_count": 63,
     "metadata": {},
     "output_type": "execute_result"
    },
    {
     "data": {
      "image/png": "[encoded data removed]",
      "text/plain": [
       "<matplotlib.figure.Figure at 0x1a5cf6e48>"
      ]
     },
     "metadata": {},
     "output_type": "display_data"
    }
   ],
   "source": [
    "plt.rcParams['figure.figsize'] = [15, 8]\n",
    "plt.scatter(weight_male_nonan.astype('float64'), maxgrades_vs_weight_male.astype('float64'))\n",
    "plt.scatter(weight_female_nonan.astype('float64'), maxgrades_vs_weight_female.astype('float64'))\n",
    "plt.xlabel('Weight in kg')\n",
    "plt.ylabel('Max grades')\n",
    "plt.ylim(ymin = 35, ymax = 85)\n",
    "plt.yticks(ticks, usa_grades)\n",
    "plt.legend(['male', 'female'], loc = 2)"
   ]
  },
  {
   "cell_type": "markdown",
   "metadata": {},
   "source": [
    "###### Height"
   ]
  },
  {
   "cell_type": "code",
   "execution_count": 64,
   "metadata": {},
   "outputs": [],
   "source": [
    "height = df_active_user['height'].replace(0, np.nan)\n",
    "height_male = height[(gender == 0)]\n",
    "height_female = height[(gender == 1)]"
   ]
  },
  {
   "cell_type": "code",
   "execution_count": 65,
   "metadata": {},
   "outputs": [],
   "source": [
    "height_male_nonan = height_male[[np.isfinite(h) for h in height_male.values]]\n",
    "height_female_nonan = height_female[[np.isfinite(h) for h in height_female.values]]"
   ]
  },
  {
   "cell_type": "code",
   "execution_count": 66,
   "metadata": {},
   "outputs": [],
   "source": [
    "maxgrades_vs_height_male = df_maxgrades[height_male_nonan.index]\n",
    "maxgrades_vs_height_female = df_maxgrades[height_female_nonan.index]"
   ]
  },
  {
   "cell_type": "code",
   "execution_count": 67,
   "metadata": {
    "scrolled": false
   },
   "outputs": [
    {
     "data": {
      "text/plain": [
       "<matplotlib.legend.Legend at 0x10a5409e8>"
      ]
     },
     "execution_count": 67,
     "metadata": {},
     "output_type": "execute_result"
    },
    {
     "data": {
      "image/png": "[encoded data removed]",
      "text/plain": [
       "<matplotlib.figure.Figure at 0x19031d710>"
      ]
     },
     "metadata": {},
     "output_type": "display_data"
    }
   ],
   "source": [
    "plt.rcParams['figure.figsize'] = [25, 12]\n",
    "plt.scatter(height_male_nonan.astype('float64'), maxgrades_vs_height_male.astype('float64'))\n",
    "plt.scatter(height_female_nonan.astype('float64'), maxgrades_vs_height_female.astype('float64'))\n",
    "plt.axis([103, 240, 0, 85])\n",
    "plt.xlabel('Height in cm')\n",
    "plt.ylabel('Max grades')\n",
    "plt.ylim(ymin = 35, ymax = 85)\n",
    "plt.yticks(ticks, usa_grades)\n",
    "plt.legend(['male', 'female'], loc = 2)"
   ]
  },
  {
   "cell_type": "code",
   "execution_count": 68,
   "metadata": {},
   "outputs": [
    {
     "data": {
      "text/plain": [
       "176.29969246540236"
      ]
     },
     "execution_count": 68,
     "metadata": {},
     "output_type": "execute_result"
    }
   ],
   "source": [
    "height_male_nonan.mean()"
   ]
  },
  {
   "cell_type": "code",
   "execution_count": 69,
   "metadata": {},
   "outputs": [
    {
     "data": {
      "text/plain": [
       "163.56105296542975"
      ]
     },
     "execution_count": 69,
     "metadata": {},
     "output_type": "execute_result"
    }
   ],
   "source": [
    "height_female_nonan.mean()"
   ]
  },
  {
   "cell_type": "markdown",
   "metadata": {
    "scrolled": true
   },
   "source": [
    "###### BMI"
   ]
  },
  {
   "cell_type": "markdown",
   "metadata": {},
   "source": [
    "$BMI = \\frac{weight(kg)}{(height(m))^2}$"
   ]
  },
  {
   "cell_type": "code",
   "execution_count": 70,
   "metadata": {},
   "outputs": [],
   "source": [
    "BMI = weight/np.sqrt(0.01*height)\n",
    "BMI_male = BMI[(gender == 0)]\n",
    "BMI_female = BMI[(gender == 1)]"
   ]
  },
  {
   "cell_type": "code",
   "execution_count": 71,
   "metadata": {},
   "outputs": [],
   "source": [
    "BMI_male_nonan = BMI_male[[np.isfinite(h) for h in BMI_male.values]]\n",
    "BMI_female_nonan = BMI_female[[np.isfinite(h) for h in BMI_female.values]]"
   ]
  },
  {
   "cell_type": "code",
   "execution_count": 72,
   "metadata": {},
   "outputs": [
    {
     "data": {
      "text/plain": [
       "<matplotlib.legend.Legend at 0x1a129db00>"
      ]
     },
     "execution_count": 72,
     "metadata": {},
     "output_type": "execute_result"
    },
    {
     "data": {
      "image/png": "[encoded data removed]",
      "text/plain": [
       "<matplotlib.figure.Figure at 0x1a129dcc0>"
      ]
     },
     "metadata": {},
     "output_type": "display_data"
    }
   ],
   "source": [
    "plt.rcParams['figure.figsize'] = [25, 12]\n",
    "plt.hist(BMI_male_nonan.astype('float64'), bins = 1000)\n",
    "plt.hist(BMI_female_nonan.astype('float64'), bins = 1000)\n",
    "plt.xlim(xmin = 30, xmax = 80)\n",
    "plt.xlabel('BMI')\n",
    "plt.ylabel('Number of active climbers')\n",
    "plt.legend(['male', 'female'], loc = 2)"
   ]
  },
  {
   "cell_type": "code",
   "execution_count": 73,
   "metadata": {},
   "outputs": [
    {
     "data": {
      "text/plain": [
       "54.111640408521531"
      ]
     },
     "execution_count": 73,
     "metadata": {},
     "output_type": "execute_result"
    }
   ],
   "source": [
    "BMI_male_nonan.mean()"
   ]
  },
  {
   "cell_type": "code",
   "execution_count": 74,
   "metadata": {},
   "outputs": [
    {
     "data": {
      "text/plain": [
       "26.015279231393698"
      ]
     },
     "execution_count": 74,
     "metadata": {},
     "output_type": "execute_result"
    }
   ],
   "source": [
    "BMI_male_nonan.std()"
   ]
  },
  {
   "cell_type": "code",
   "execution_count": 75,
   "metadata": {},
   "outputs": [
    {
     "data": {
      "text/plain": [
       "52.00089967732733"
      ]
     },
     "execution_count": 75,
     "metadata": {},
     "output_type": "execute_result"
    }
   ],
   "source": [
    "BMI_male_nonan.median()"
   ]
  },
  {
   "cell_type": "markdown",
   "metadata": {},
   "source": [
    "&&&&&&&&&&&&&&&&&&&&&&&&&&&&&\n",
    "<br>\n",
    "&&&&&&&&&&&&&&&&&&&&&&&&&&&&&"
   ]
  },
  {
   "cell_type": "markdown",
   "metadata": {},
   "source": [
    "## Average number of years to climb a grade"
   ]
  },
  {
   "cell_type": "code",
   "execution_count": 74,
   "metadata": {},
   "outputs": [],
   "source": [
    "def achieve_grade(sample, grade, boulder = False):\n",
    "    \"\"\"\n",
    "    Given a grade and a sample of active users, returns the average age and average number of climbing \n",
    "    years after which said grade was achieved. \n",
    "    Input:\n",
    "    sample: A sub-dataframe of active users.\n",
    "    grade: string\n",
    "    boulder: boolean. False is sport, True is boulder (default = False)\n",
    "    Output: (2,) array.  \n",
    "    \"\"\"\n",
    "    result = []\n",
    "    gradeid = grade_id(grade)\n",
    "    for climber in sample.index:\n",
    "        mask = (df_ascent_id['user_id'] == climber) & (df_ascent_id['grade_id'] == gradeid) & (df_ascent_id['climb_type'] == boulder)\n",
    "        years = sendyears[mask].values\n",
    "        if len(years) == 0 or pd.isnull(years).all():\n",
    "            (age, nb_years) = (np.nan, np.nan)\n",
    "        else:\n",
    "            first_year = np.nanmin(years) #np.nanmin is min ignoring the nan's\n",
    "            (age, nb_years) = (first_year - birthyears[climber], first_year - startedyears[climber])\n",
    "        result.append([age, nb_years])\n",
    "            \n",
    "    return np.nanmean(np.array(result), axis = 0) #np.nanmean is mean ignoring the nan's"
   ]
  },
  {
   "cell_type": "code",
   "execution_count": 75,
   "metadata": {},
   "outputs": [],
   "source": [
    "def achieve_grades(sample, grades, boulder = False):\n",
    "    \"\"\"\n",
    "    Given a list of grades and a sample of active users, returns an np.array corresponding to the following:\n",
    "    Every row corresponds to a grade; first column is average age; second column is average number of climbing years.\n",
    "    \"\"\"\n",
    "    result = achieve_grade(sample, grades[0], boulder)\n",
    "    for grade in grades[1:]:\n",
    "        new_line = achieve_grade(sample, grade, boulder)\n",
    "        result = np.vstack((result, new_line))\n",
    "        \n",
    "    return result"
   ]
  },
  {
   "cell_type": "markdown",
   "metadata": {},
   "source": [
    "&&&&&&&&&&&&&&&&&&&&&&&&&&&&&"
   ]
  },
  {
   "cell_type": "code",
   "execution_count": 76,
   "metadata": {},
   "outputs": [],
   "source": [
    "sample = df_active_user.sample(n=500)"
   ]
  },
  {
   "cell_type": "code",
   "execution_count": 77,
   "metadata": {},
   "outputs": [
    {
     "name": "stderr",
     "output_type": "stream",
     "text": [
      "/Library/Frameworks/Python.framework/Versions/3.6/lib/python3.6/site-packages/ipykernel_launcher.py:23: RuntimeWarning: Mean of empty slice\n"
     ]
    },
    {
     "name": "stdout",
     "output_type": "stream",
     "text": [
      "CPU times: user 5min 11s, sys: 1min 39s, total: 6min 50s\n",
      "Wall time: 6min 55s\n"
     ]
    }
   ],
   "source": [
    "%%time\n",
    "average_achieve_grade = achieve_grades(sample, usa_grades)"
   ]
  },
  {
   "cell_type": "code",
   "execution_count": 79,
   "metadata": {},
   "outputs": [
    {
     "data": {
      "text/plain": [
       "<matplotlib.legend.Legend at 0x1aeeaa7b8>"
      ]
     },
     "execution_count": 79,
     "metadata": {},
     "output_type": "execute_result"
    },
    {
     "data": {
      "image/png": "[encoded data removed]",
      "text/plain": [
       "<matplotlib.figure.Figure at 0x1b28a6470>"
      ]
     },
     "metadata": {},
     "output_type": "display_data"
    }
   ],
   "source": [
    "plt.rcParams['figure.figsize'] = [30, 10]\n",
    "plt.scatter(usa_grades, average_achieve_grade[:,0])\n",
    "plt.scatter(usa_grades, average_achieve_grade[:,1])\n",
    "plt.legend(['age', 'nb of years'], loc = 2)"
   ]
  },
  {
   "cell_type": "code",
   "execution_count": 57,
   "metadata": {},
   "outputs": [
    {
     "data": {
      "text/plain": [
       "(3550, 21)"
      ]
     },
     "execution_count": 57,
     "metadata": {},
     "output_type": "execute_result"
    }
   ],
   "source": [
    "started_after_25 = df_active_user[(age_started > 25)]\n",
    "started_after_25.shape"
   ]
  },
  {
   "cell_type": "code",
   "execution_count": 62,
   "metadata": {},
   "outputs": [],
   "source": [
    "sample = started_after_25.sample(n = 500)"
   ]
  },
  {
   "cell_type": "code",
   "execution_count": 63,
   "metadata": {},
   "outputs": [
    {
     "name": "stderr",
     "output_type": "stream",
     "text": [
      "/Library/Frameworks/Python.framework/Versions/3.6/lib/python3.6/site-packages/ipykernel_launcher.py:23: RuntimeWarning: Mean of empty slice\n"
     ]
    },
    {
     "name": "stdout",
     "output_type": "stream",
     "text": [
      "CPU times: user 6min, sys: 1min 40s, total: 7min 41s\n",
      "Wall time: 7min 45s\n"
     ]
    }
   ],
   "source": [
    "%%time\n",
    "average_achieve_grade = achieve_grades(sample, usa_grades)"
   ]
  },
  {
   "cell_type": "code",
   "execution_count": 68,
   "metadata": {},
   "outputs": [
    {
     "data": {
      "text/plain": [
       "[<matplotlib.lines.Line2D at 0x1b6cc6da0>]"
      ]
     },
     "execution_count": 68,
     "metadata": {},
     "output_type": "execute_result"
    },
    {
     "data": {
      "image/png": "[encoded data removed]",
      "text/plain": [
       "<matplotlib.figure.Figure at 0x1b6cb0c88>"
      ]
     },
     "metadata": {},
     "output_type": "display_data"
    }
   ],
   "source": [
    "plt.rcParams['figure.figsize'] = [20, 10]\n",
    "plt.plot(usa_grades, average_achieve_grade[:,1])"
   ]
  },
  {
   "cell_type": "code",
   "execution_count": 35,
   "metadata": {},
   "outputs": [
    {
     "data": {
      "text/plain": [
       "(1223, 21)"
      ]
     },
     "execution_count": 35,
     "metadata": {},
     "output_type": "execute_result"
    }
   ],
   "source": [
    "started_after_30 = df_active_user[(age_started > 30)]\n",
    "started_after_30.shape"
   ]
  },
  {
   "cell_type": "code",
   "execution_count": 36,
   "metadata": {},
   "outputs": [],
   "source": [
    "sample2 = started_after_30.sample(n = 500)"
   ]
  },
  {
   "cell_type": "code",
   "execution_count": 37,
   "metadata": {},
   "outputs": [
    {
     "name": "stderr",
     "output_type": "stream",
     "text": [
      "/Library/Frameworks/Python.framework/Versions/3.6/lib/python3.6/site-packages/ipykernel_launcher.py:23: RuntimeWarning: Mean of empty slice\n"
     ]
    },
    {
     "name": "stdout",
     "output_type": "stream",
     "text": [
      "CPU times: user 6min 24s, sys: 2min 8s, total: 8min 33s\n",
      "Wall time: 8min 38s\n"
     ]
    }
   ],
   "source": [
    "%%time\n",
    "average_achieve_grade = achieve_grades(sample2, usa_grades)"
   ]
  },
  {
   "cell_type": "code",
   "execution_count": 38,
   "metadata": {},
   "outputs": [
    {
     "data": {
      "text/plain": [
       "[<matplotlib.lines.Line2D at 0x10a538160>]"
      ]
     },
     "execution_count": 38,
     "metadata": {},
     "output_type": "execute_result"
    },
    {
     "data": {
      "image/png": "[encoded data removed]",
      "text/plain": [
       "<matplotlib.figure.Figure at 0x10b08b940>"
      ]
     },
     "metadata": {},
     "output_type": "display_data"
    }
   ],
   "source": [
    "plt.rcParams['figure.figsize'] = [20, 10]\n",
    "plt.plot(usa_grades, average_achieve_grade[:,1])"
   ]
  },
  {
   "cell_type": "code",
   "execution_count": null,
   "metadata": {},
   "outputs": [],
   "source": []
  },
  {
   "cell_type": "code",
   "execution_count": null,
   "metadata": {},
   "outputs": [],
   "source": []
  },
  {
   "cell_type": "code",
   "execution_count": 92,
   "metadata": {},
   "outputs": [
    {
     "data": {
      "text/plain": [
       "<function matplotlib.pyplot.show>"
      ]
     },
     "execution_count": 92,
     "metadata": {},
     "output_type": "execute_result"
    },
    {
     "data": {
      "image/png": "[encoded data removed]",
      "text/plain": [
       "<matplotlib.figure.Figure at 0x1d30f9630>"
      ]
     },
     "metadata": {},
     "output_type": "display_data"
    }
   ],
   "source": [
    "plt.scatter(sendyears[logbook_active_users[37502]], df_ascent_id.loc[logbook_active_users[37502]]['grade_id'])\n",
    "plt.yticks(ticks, usa_grades)\n",
    "plt.show"
   ]
  },
  {
   "cell_type": "code",
   "execution_count": null,
   "metadata": {},
   "outputs": [],
   "source": []
  },
  {
   "cell_type": "code",
   "execution_count": 89,
   "metadata": {},
   "outputs": [
    {
     "data": {
      "text/plain": [
       "2407853"
      ]
     },
     "execution_count": 89,
     "metadata": {},
     "output_type": "execute_result"
    }
   ],
   "source": [
    "nine_c =(df_ascent_id['grade_id'] == grade_id('9c')).idxmax()\n",
    "nine_c"
   ]
  },
  {
   "cell_type": "code",
   "execution_count": 91,
   "metadata": {},
   "outputs": [
    {
     "data": {
      "text/plain": [
       "user_id                                                             37502\n",
       "grade_id                                                               83\n",
       "notes                                                                Hard\n",
       "raw_notes                                                              16\n",
       "method_id                                                               1\n",
       "climb_type                                                              1\n",
       "total_score                                                             0\n",
       "date                                                           1333922400\n",
       "year                                                                 2012\n",
       "last_year                                                               0\n",
       "rec_date                                                       1335618487\n",
       "project_ascent_date                                                     0\n",
       "name                                                             The Game\n",
       "crag_id                                                             27654\n",
       "crag                                                       Boulder canyon\n",
       "sector_id                                                               0\n",
       "sector                                                                   \n",
       "country                                                               USA\n",
       "comment                 Got to try some moves on one of the hardest pr...\n",
       "rating                                                                  0\n",
       "description                                                              \n",
       "yellow_id                                                             255\n",
       "climb_try                                                               1\n",
       "repeat                                                                  0\n",
       "exclude_from_ranking                                                    0\n",
       "user_recommended                                                        0\n",
       "chipped                                                                 0\n",
       "Name: 2407853, dtype: object"
      ]
     },
     "execution_count": 91,
     "metadata": {},
     "output_type": "execute_result"
    }
   ],
   "source": [
    "df_ascent_id.loc[2407853]"
   ]
  },
  {
   "cell_type": "code",
   "execution_count": null,
   "metadata": {},
   "outputs": [],
   "source": []
  }
 ],
 "metadata": {
  "kernelspec": {
   "display_name": "Python 3",
   "language": "python",
   "name": "python3"
  },
  "language_info": {
   "codemirror_mode": {
    "name": "ipython",
    "version": 3
   },
   "file_extension": ".py",
   "mimetype": "text/x-python",
   "name": "python",
   "nbconvert_exporter": "python",
   "pygments_lexer": "ipython3",
   "version": "3.6.0"
  }
 },
 "nbformat": 4,
 "nbformat_minor": 2
}
