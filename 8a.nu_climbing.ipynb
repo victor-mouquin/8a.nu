{
 "cells": [
  {
   "cell_type": "markdown",
   "metadata": {},
   "source": [
    "The data can be downloaded from this website: <br>\n",
    "    https://www.kaggle.com/dcohen21/8anu-climbing-logbook <br>\n",
    "The files should be put in the same folder as this notebook"
   ]
  },
  {
   "cell_type": "code",
   "execution_count": null,
   "metadata": {},
   "outputs": [],
   "source": [
    "import numpy as np\n",
    "import matplotlib.pyplot as plt \n",
    "import pandas as pd"
   ]
  },
  {
   "cell_type": "code",
   "execution_count": null,
   "metadata": {},
   "outputs": [],
   "source": [
    "#import connect\n",
    "from sqlite3 import connect"
   ]
  },
  {
   "cell_type": "markdown",
   "metadata": {},
   "source": [
    "# Cleaning the data"
   ]
  },
  {
   "cell_type": "markdown",
   "metadata": {},
   "source": [
    "## Opening the databases"
   ]
  },
  {
   "cell_type": "code",
   "execution_count": null,
   "metadata": {},
   "outputs": [],
   "source": [
    "def qry(q, connection = connect(\"database.sqlite\")):\n",
    "    df = pd.read_sql_query(q, connection)\n",
    "    connection.close\n",
    "    return df"
   ]
  },
  {
   "cell_type": "markdown",
   "metadata": {},
   "source": [
    "The database consists of 4 tables: users, method, grade, ascent"
   ]
  },
  {
   "cell_type": "code",
   "execution_count": null,
   "metadata": {},
   "outputs": [],
   "source": [
    "tables = qry(\"SELECT name FROM sqlite_master\")\n",
    "tables"
   ]
  },
  {
   "cell_type": "code",
   "execution_count": null,
   "metadata": {},
   "outputs": [],
   "source": [
    "%%time\n",
    "df_user = qry(\"SELECT * FROM USER\")# 62'593 users x 22 columns\n",
    "df_grade = qry(\"SELECT * FROM grade\")# 83 grades x 14 columns\n",
    "df_method = qry(\"SELECT * FROM method\")# 5 methods x 4 columns\n",
    "df_ascent = qry(\"SELECT * FROM ascent\")# 4'111'877 ascents x 28 columns"
   ]
  },
  {
   "cell_type": "markdown",
   "metadata": {},
   "source": [
    "&&&&&&&&&&&&&&&&&&&&&&&&&"
   ]
  },
  {
   "cell_type": "code",
   "execution_count": null,
   "metadata": {},
   "outputs": [],
   "source": [
    "df_user.columns"
   ]
  },
  {
   "cell_type": "code",
   "execution_count": null,
   "metadata": {},
   "outputs": [],
   "source": [
    "df_grade.columns"
   ]
  },
  {
   "cell_type": "code",
   "execution_count": null,
   "metadata": {},
   "outputs": [],
   "source": [
    "df_ascent.columns"
   ]
  },
  {
   "cell_type": "markdown",
   "metadata": {},
   "source": [
    "<b> climb type: 0 = sport, 1 = boulder </b>"
   ]
  },
  {
   "cell_type": "code",
   "execution_count": null,
   "metadata": {},
   "outputs": [],
   "source": [
    "df_method"
   ]
  },
  {
   "cell_type": "markdown",
   "metadata": {},
   "source": [
    "### Extracting the relevant grades"
   ]
  },
  {
   "cell_type": "code",
   "execution_count": null,
   "metadata": {},
   "outputs": [],
   "source": [
    "#Not all grades in df_grade appear in df_ascent\n",
    "relevant_grades = set(df_ascent['grade_id'])\n",
    "df_relevant_grades = pd.DataFrame(list(relevant_grades), columns = ['id'])\n",
    "df_grade = pd.merge(df_grade, df_relevant_grades, on = 'id')"
   ]
  },
  {
   "cell_type": "code",
   "execution_count": null,
   "metadata": {},
   "outputs": [],
   "source": [
    "%%time\n",
    "#Set the 'id' columns to be the index. \n",
    "df_user.set_index('id', inplace = True)\n",
    "df_grade.set_index('id', inplace = True) #Set the column 'id' to be the index.\n",
    "df_ascent.set_index('id', inplace = True)  #Set the column 'id' to be the index."
   ]
  },
  {
   "cell_type": "markdown",
   "metadata": {},
   "source": [
    "### Extracting active climbers"
   ]
  },
  {
   "cell_type": "markdown",
   "metadata": {},
   "source": [
    "We extract the \"active\" climbers, i.e the users with recorded ascents. "
   ]
  },
  {
   "cell_type": "code",
   "execution_count": null,
   "metadata": {},
   "outputs": [],
   "source": [
    "A = set(df_ascent['user_id'])\n",
    "B = set(df_user.index)\n",
    "active_users = A.intersection(B)"
   ]
  },
  {
   "cell_type": "code",
   "execution_count": null,
   "metadata": {},
   "outputs": [],
   "source": [
    "print(f\"There are {len(A.difference(B))} climbers in the ascent database which do not correspond to anyone in the user database!!\")"
   ]
  },
  {
   "cell_type": "code",
   "execution_count": null,
   "metadata": {},
   "outputs": [],
   "source": [
    "df_active_user = df_user.loc[active_users]\n",
    "df_active_user.head()"
   ]
  },
  {
   "cell_type": "code",
   "execution_count": null,
   "metadata": {},
   "outputs": [],
   "source": [
    "df_active_user.shape"
   ]
  },
  {
   "cell_type": "markdown",
   "metadata": {},
   "source": [
    "### Ascents from active users"
   ]
  },
  {
   "cell_type": "code",
   "execution_count": null,
   "metadata": {},
   "outputs": [],
   "source": [
    "%%time\n",
    "# Getting rid of the ascents of the 3 mysterious climbers\n",
    "df_right = pd.DataFrame(df_active_user.index)\n",
    "df_right.columns = ['user_id']\n",
    "df_ascent = pd.merge(df_ascent, df_right, on = 'user_id')"
   ]
  },
  {
   "cell_type": "code",
   "execution_count": null,
   "metadata": {},
   "outputs": [],
   "source": [
    "assert(set(df_ascent['user_id']) == set(df_active_user.index))"
   ]
  },
  {
   "cell_type": "markdown",
   "metadata": {},
   "source": [
    "### Extracting various years"
   ]
  },
  {
   "cell_type": "code",
   "execution_count": null,
   "metadata": {},
   "outputs": [],
   "source": [
    "def extract_year(Series, nullValue):\n",
    "    \"\"\"\n",
    "    Given a Series of dates, replaces every occurance of 'nullValue' by a np.nan, and extract the year of the \n",
    "    admissible dates. \n",
    "    \"\"\"\n",
    "    nullYear = Series == nullValue\n",
    "    Series[nullYear] = np.nan\n",
    "    Series = Series.apply(lambda row: row.year)\n",
    "    \n",
    "    return Series"
   ]
  },
  {
   "cell_type": "markdown",
   "metadata": {},
   "source": [
    "##### Birthyears of active users"
   ]
  },
  {
   "cell_type": "code",
   "execution_count": null,
   "metadata": {},
   "outputs": [],
   "source": [
    "birthyears = pd.to_datetime(df_active_user['birth'],errors = 'coerce') \n",
    "#If ‘coerce’, then invalid parsing will be set as NaT\n",
    "birthyears = extract_year(birthyears, None)\n",
    "df_active_user['birth'] = birthyears"
   ]
  },
  {
   "cell_type": "markdown",
   "metadata": {},
   "source": [
    "##### Years of ascends"
   ]
  },
  {
   "cell_type": "code",
   "execution_count": null,
   "metadata": {},
   "outputs": [],
   "source": [
    "# No funny things in the 'date' column of the ascent. It's either a unix timestamp or 0.\n",
    "df_ascent['date'][(df_ascent['date'] !=0)].min()"
   ]
  },
  {
   "cell_type": "code",
   "execution_count": null,
   "metadata": {},
   "outputs": [],
   "source": [
    "%%time\n",
    "nullDate = pd.to_datetime(0, unit='s')\n",
    "sendyears = pd.to_datetime(df_ascent['date'], unit = 's')\n",
    "sendyears = extract_year(sendyears, nullDate)\n",
    "df_ascent['date'] = sendyears"
   ]
  },
  {
   "cell_type": "markdown",
   "metadata": {},
   "source": [
    "##### Year started climbing"
   ]
  },
  {
   "cell_type": "markdown",
   "metadata": {},
   "source": [
    "Some active users have starting year lower than their birth year! We compute how many such active climbers there are.  "
   ]
  },
  {
   "cell_type": "code",
   "execution_count": null,
   "metadata": {},
   "outputs": [],
   "source": [
    "startedyears = df_active_user['started'].replace(0, np.nan)\n",
    "df_active_user['started'] = startedyears"
   ]
  },
  {
   "cell_type": "code",
   "execution_count": null,
   "metadata": {},
   "outputs": [],
   "source": [
    "# Some non-sensical starting years! At least it's 0 or a year number. \n",
    "df_active_user['started'][(df_active_user['started'] !=0)].min()"
   ]
  },
  {
   "cell_type": "code",
   "execution_count": null,
   "metadata": {},
   "outputs": [],
   "source": [
    "admissible = np.array([not value for value in (birthyears > startedyears)])\n",
    "print('There are only',admissible.shape[0] - admissible.sum(), 'climbers with starting year lower than their birth year.' )"
   ]
  },
  {
   "cell_type": "code",
   "execution_count": null,
   "metadata": {},
   "outputs": [],
   "source": [
    "ages = 2017 - birthyears #Database is from 13th Sept 2017\n",
    "df_active_user['ages'] = ages"
   ]
  },
  {
   "cell_type": "markdown",
   "metadata": {},
   "source": [
    "### Store cleaned data"
   ]
  },
  {
   "cell_type": "code",
   "execution_count": null,
   "metadata": {},
   "outputs": [],
   "source": [
    "%%time\n",
    "# ~7 seconds\"\n",
    "df_active_user.to_pickle(\"active_user.pkl\")\n",
    "df_ascent.to_pickle(\"ascent.pkl\")\n",
    "df_grade.to_pickle(\"grade.pkl\")"
   ]
  },
  {
   "cell_type": "markdown",
   "metadata": {},
   "source": [
    "# Data Analysis"
   ]
  },
  {
   "cell_type": "markdown",
   "metadata": {},
   "source": [
    "### Reset kernel, and load clean data"
   ]
  },
  {
   "cell_type": "code",
   "execution_count": 1,
   "metadata": {},
   "outputs": [
    {
     "name": "stdout",
     "output_type": "stream",
     "text": [
      "Once deleted, variables cannot be recovered. Proceed (y/[n])? y\n"
     ]
    }
   ],
   "source": [
    "%reset\n",
    "import numpy as np\n",
    "import matplotlib.pyplot as plt\n",
    "import pandas as pd"
   ]
  },
  {
   "cell_type": "code",
   "execution_count": 2,
   "metadata": {},
   "outputs": [
    {
     "name": "stdout",
     "output_type": "stream",
     "text": [
      "CPU times: user 3.36 s, sys: 1.96 s, total: 5.32 s\n",
      "Wall time: 5.51 s\n"
     ]
    }
   ],
   "source": [
    "%%time\n",
    "# ~3-4 seconds\n",
    "df_active_user = pd.read_pickle(\"active_user.pkl\")\n",
    "df_ascent = pd.read_pickle(\"ascent.pkl\")\n",
    "df_grade = pd.read_pickle(\"grade.pkl\")"
   ]
  },
  {
   "cell_type": "markdown",
   "metadata": {},
   "source": [
    "### Age and Age at which started climbing "
   ]
  },
  {
   "cell_type": "code",
   "execution_count": null,
   "metadata": {},
   "outputs": [],
   "source": [
    "#Age without nan's\n",
    "ages = df_active_user['ages']\n",
    "ages_nonan = ages.values[[np.isfinite(a) for a in ages.values]]\n",
    "startedyears = df_active_user['started']"
   ]
  },
  {
   "cell_type": "code",
   "execution_count": null,
   "metadata": {},
   "outputs": [],
   "source": [
    "ages = ages_nonan.astype('float64')\n",
    "plt.rcParams['figure.figsize'] = [12, 8]\n",
    "plt.hist(ages,bins = 50)\n",
    "plt.xlabel('Age of active climbers')\n",
    "plt.ylabel('Number of active climbers')\n",
    "plt.show"
   ]
  },
  {
   "cell_type": "code",
   "execution_count": null,
   "metadata": {},
   "outputs": [],
   "source": [
    "ages_nonan.mean()"
   ]
  },
  {
   "cell_type": "code",
   "execution_count": null,
   "metadata": {},
   "outputs": [],
   "source": [
    "ages_nonan.std()"
   ]
  },
  {
   "cell_type": "code",
   "execution_count": null,
   "metadata": {},
   "outputs": [],
   "source": [
    "birthyears = df_active_user['birth']\n",
    "age_started = startedyears - birthyears\n",
    "age_started_nonan = age_started.values[[np.isfinite(a) for a in age_started.values]]"
   ]
  },
  {
   "cell_type": "code",
   "execution_count": null,
   "metadata": {},
   "outputs": [],
   "source": [
    "plt.hist(age_started_nonan.astype('float64'), bins = 50)\n",
    "plt.axis([0, 80, 0, 5000])\n",
    "plt.xlabel('Age at which started climbing')\n",
    "plt.ylabel('Number of active climbers')\n",
    "plt.show"
   ]
  },
  {
   "cell_type": "code",
   "execution_count": null,
   "metadata": {},
   "outputs": [],
   "source": [
    "age_started_nonan.mean()"
   ]
  },
  {
   "cell_type": "code",
   "execution_count": null,
   "metadata": {},
   "outputs": [],
   "source": [
    "age_started_nonan.std()"
   ]
  },
  {
   "cell_type": "markdown",
   "metadata": {},
   "source": [
    "## Max grades with respect to physical characteristics"
   ]
  },
  {
   "cell_type": "markdown",
   "metadata": {},
   "source": [
    "##### Maximum grades"
   ]
  },
  {
   "cell_type": "code",
   "execution_count": null,
   "metadata": {},
   "outputs": [],
   "source": [
    "df_maxgrades_index = df_ascent.groupby('user_id')['grade_id'].aggregate(np.max)\n",
    "df_maxgrades = pd.merge(pd.DataFrame(df_maxgrades_index), df_grade, left_on = 'grade_id' ,right_index = True)\n",
    "df_maxgrades.index"
   ]
  },
  {
   "cell_type": "markdown",
   "metadata": {},
   "source": [
    "###### Gender"
   ]
  },
  {
   "cell_type": "code",
   "execution_count": null,
   "metadata": {},
   "outputs": [],
   "source": [
    "gender = df_active_user['sex']"
   ]
  },
  {
   "cell_type": "code",
   "execution_count": null,
   "metadata": {},
   "outputs": [],
   "source": [
    "print('There are', gender.sum(),'active female climbers.') # female is 1"
   ]
  },
  {
   "cell_type": "markdown",
   "metadata": {},
   "source": [
    "###### Weight"
   ]
  },
  {
   "cell_type": "code",
   "execution_count": null,
   "metadata": {},
   "outputs": [],
   "source": [
    "weight = df_active_user['weight'].replace(0, np.nan)\n",
    "weight_male = weight[(gender == 0)]\n",
    "weight_female = weight[(gender == 1)]"
   ]
  },
  {
   "cell_type": "code",
   "execution_count": null,
   "metadata": {},
   "outputs": [],
   "source": [
    "weight_male_nonan = weight_male[[np.isfinite(w) for w in weight_male.values]]\n",
    "weight_female_nonan = weight_female[[np.isfinite(w) for w in weight_female.values]]"
   ]
  },
  {
   "cell_type": "code",
   "execution_count": null,
   "metadata": {},
   "outputs": [],
   "source": [
    "maxgrades_vs_weight_male = df_maxgrades_index.loc[weight_male_nonan.index]\n",
    "maxgrades_vs_weight_female = df_maxgrades_index.loc[weight_female_nonan.index]"
   ]
  },
  {
   "cell_type": "code",
   "execution_count": null,
   "metadata": {},
   "outputs": [],
   "source": [
    "#Label for graphs\n",
    "ticks = np.array(df_grade.index)\n",
    "usa_grades = df_grade['usa_routes']"
   ]
  },
  {
   "cell_type": "code",
   "execution_count": null,
   "metadata": {},
   "outputs": [],
   "source": [
    "plt.rcParams['figure.figsize'] = [15, 8]\n",
    "plt.scatter(weight_male_nonan.astype('float64'), maxgrades_vs_weight_male.astype('float64'))\n",
    "plt.scatter(weight_female_nonan.astype('float64'), maxgrades_vs_weight_female.astype('float64'))\n",
    "plt.xlabel('Weight in kg')\n",
    "plt.ylabel('Max grades')\n",
    "plt.ylim(ymin = 35, ymax = 85)\n",
    "plt.yticks(ticks, usa_grades)\n",
    "plt.legend(['male', 'female'], loc = 2)"
   ]
  },
  {
   "cell_type": "markdown",
   "metadata": {},
   "source": [
    "###### Height"
   ]
  },
  {
   "cell_type": "code",
   "execution_count": null,
   "metadata": {},
   "outputs": [],
   "source": [
    "height = df_active_user['height'].replace(0, np.nan)\n",
    "height_male = height[(gender == 0)]\n",
    "height_female = height[(gender == 1)]"
   ]
  },
  {
   "cell_type": "code",
   "execution_count": null,
   "metadata": {},
   "outputs": [],
   "source": [
    "height_male_nonan = height_male[[np.isfinite(h) for h in height_male.values]]\n",
    "height_female_nonan = height_female[[np.isfinite(h) for h in height_female.values]]"
   ]
  },
  {
   "cell_type": "code",
   "execution_count": null,
   "metadata": {},
   "outputs": [],
   "source": [
    "maxgrades_vs_height_male = df_maxgrades_index.loc[height_male_nonan.index]\n",
    "maxgrades_vs_height_female = df_maxgrades_index.loc[height_female_nonan.index]"
   ]
  },
  {
   "cell_type": "code",
   "execution_count": null,
   "metadata": {},
   "outputs": [],
   "source": [
    "plt.rcParams['figure.figsize'] = [25, 12]\n",
    "plt.scatter(height_male_nonan.astype('float64'), maxgrades_vs_height_male.astype('float64'))\n",
    "plt.scatter(height_female_nonan.astype('float64'), maxgrades_vs_height_female.astype('float64'))\n",
    "plt.axis([103, 240, 0, 85])\n",
    "plt.xlabel('Height in cm')\n",
    "plt.ylabel('Max grades')\n",
    "plt.ylim(ymin = 35, ymax = 85)\n",
    "plt.yticks(ticks, usa_grades)\n",
    "plt.legend(['male', 'female'], loc = 2)"
   ]
  },
  {
   "cell_type": "code",
   "execution_count": null,
   "metadata": {},
   "outputs": [],
   "source": [
    "height_male_nonan.mean()"
   ]
  },
  {
   "cell_type": "code",
   "execution_count": null,
   "metadata": {},
   "outputs": [],
   "source": [
    "height_female_nonan.mean()"
   ]
  },
  {
   "cell_type": "markdown",
   "metadata": {},
   "source": [
    "&&&&&&&&&&&&&&&&&&&&&&&&&&&&&\n",
    "<br>\n",
    "&&&&&&&&&&&&&&&&&&&&&&&&&&&&&"
   ]
  },
  {
   "cell_type": "markdown",
   "metadata": {},
   "source": [
    "## Average number of years to climb a grade"
   ]
  },
  {
   "cell_type": "code",
   "execution_count": null,
   "metadata": {},
   "outputs": [],
   "source": [
    "%%time\n",
    "sendyears = df_ascent['date']\n",
    "# Merge the df_ascent DataFrame with the startedyears Series, using the user_id as the merge key\n",
    "df_tmp = pd.merge(df_ascent, pd.DataFrame(startedyears), left_on='user_id', right_index = True)\n",
    "df_tmp['years_to_send'] = df_tmp['date'] - df_tmp['started']"
   ]
  },
  {
   "cell_type": "code",
   "execution_count": null,
   "metadata": {},
   "outputs": [],
   "source": [
    "%%time\n",
    "# For each (user, grade, climb_type) find the minimum number of years from start-of-climbing\n",
    "# until sending one route of that grade\n",
    "grouped_climb_type = df_tmp.groupby(['user_id', 'grade_id', 'climb_type'])['years_to_send'].agg(np.nanmin)"
   ]
  },
  {
   "cell_type": "code",
   "execution_count": null,
   "metadata": {},
   "outputs": [],
   "source": [
    "result_climb_type = grouped_climb_type.groupby(level = ['grade_id', 'climb_type']).agg(np.nanmean)\n",
    "sport_climb = result_climb_type.groupby(level = 'climb_type').get_group(0)\n",
    "boulder = result_climb_type.groupby(level = 'climb_type').get_group(1)"
   ]
  },
  {
   "cell_type": "code",
   "execution_count": null,
   "metadata": {},
   "outputs": [],
   "source": [
    "#Label for graphs\n",
    "usa_boulders = df_grade['usa_boulders']\n",
    "foo1 = [ticks, [1]]\n",
    "foo1_index = pd.MultiIndex.from_product(foo1)"
   ]
  },
  {
   "cell_type": "code",
   "execution_count": null,
   "metadata": {},
   "outputs": [],
   "source": [
    "plt.rcParams['figure.figsize'] = [30, 10]\n",
    "plt.scatter(ticks, boulder.reindex(foo1_index), s = 100)\n",
    "plt.legend(['Average nb of years: boulder'], loc = 2,fontsize = 'xx-large')\n",
    "plt.xlim(xmin = 27, xmax = 70)\n",
    "plt.xticks(ticks, usa_boulders)\n",
    "plt.show"
   ]
  },
  {
   "cell_type": "code",
   "execution_count": null,
   "metadata": {},
   "outputs": [],
   "source": [
    "foo0 = [ticks, [0]]\n",
    "foo0_index = pd.MultiIndex.from_product(foo0)"
   ]
  },
  {
   "cell_type": "code",
   "execution_count": null,
   "metadata": {},
   "outputs": [],
   "source": [
    "plt.rcParams['figure.figsize'] = [30, 10]\n",
    "plt.scatter(ticks, sport_climb.reindex(foo0_index), s = 100)\n",
    "plt.legend(['Average nb of years: sport climbing'], loc = 2, fontsize = 'xx-large')\n",
    "plt.xlim(xmin = 35, xmax = 85)\n",
    "plt.xticks(ticks, usa_grades)\n",
    "plt.show"
   ]
  },
  {
   "cell_type": "markdown",
   "metadata": {},
   "source": [
    "## Conditional probability to climb grade $n$ having climbed grade $n-1$"
   ]
  },
  {
   "cell_type": "code",
   "execution_count": 3,
   "metadata": {},
   "outputs": [],
   "source": [
    "#Label for graphs\n",
    "ticks = np.array(df_grade.index)\n",
    "usa_grades = df_grade['usa_routes']"
   ]
  },
  {
   "cell_type": "code",
   "execution_count": 4,
   "metadata": {},
   "outputs": [],
   "source": [
    "sends_by_grades = df_ascent.groupby('grade_id')\n",
    "grade = ticks[1:]"
   ]
  },
  {
   "cell_type": "code",
   "execution_count": 5,
   "metadata": {},
   "outputs": [],
   "source": [
    "cp = []\n",
    "up = []\n",
    "for i in range(1, len(ticks)):\n",
    "    climbed_i = set(sends_by_grades.get_group(ticks[i])['user_id'])\n",
    "    climbed_iminus1 = set(sends_by_grades.get_group(ticks[i-1])['user_id'])\n",
    "    climbed_i_iminus1 = climbed_i.intersection(climbed_iminus1)\n",
    "    cond_proba_i = len(climbed_i_iminus1)/len(climbed_iminus1)\n",
    "    cp.append(cond_proba_i)\n",
    "    up.append(len(climbed_i)/df_active_user.shape[0])\n",
    "cond_proba = np.array(cp)\n",
    "uncond_proba = np.array(up)"
   ]
  },
  {
   "cell_type": "code",
   "execution_count": 6,
   "metadata": {},
   "outputs": [
    {
     "data": {
      "text/plain": [
       "<function matplotlib.pyplot.plot>"
      ]
     },
     "execution_count": 6,
     "metadata": {},
     "output_type": "execute_result"
    },
    {
     "data": {
      "image/png": "[encoded data removed]",
      "text/plain": [
       "<matplotlib.figure.Figure at 0x11445a630>"
      ]
     },
     "metadata": {},
     "output_type": "display_data"
    }
   ],
   "source": [
    "plt.rcParams['figure.figsize'] = [25, 8]\n",
    "plt.scatter(grade, cond_proba)\n",
    "plt.xticks(grade, usa_grades.iloc[1:])\n",
    "plt.xlim(xmin = 30, xmax = 85)\n",
    "plt.legend(['Proba to climb given grade conditoned on having climbed previous grade'], loc = 2, fontsize = 'xx-large')\n",
    "plt.plot"
   ]
  },
  {
   "cell_type": "code",
   "execution_count": 7,
   "metadata": {},
   "outputs": [
    {
     "data": {
      "text/plain": [
       "<function matplotlib.pyplot.plot>"
      ]
     },
     "execution_count": 7,
     "metadata": {},
     "output_type": "execute_result"
    },
    {
     "data": {
      "image/png": "[encoded data removed]",
      "text/plain": [
       "<matplotlib.figure.Figure at 0x11ee09f98>"
      ]
     },
     "metadata": {},
     "output_type": "display_data"
    }
   ],
   "source": [
    "plt.rcParams['figure.figsize'] = [25, 8]\n",
    "plt.scatter(ticks[1:], uncond_proba)\n",
    "plt.xticks(ticks[1:], usa_grades.iloc[1:])\n",
    "plt.xlim(xmin = 30, xmax = 85)\n",
    "plt.legend(['Proba to climb a grade'], loc = 2, fontsize = 'xx-large')\n",
    "plt.plot"
   ]
  },
  {
   "cell_type": "code",
   "execution_count": null,
   "metadata": {},
   "outputs": [],
   "source": []
  }
 ],
 "metadata": {
  "kernelspec": {
   "display_name": "Python 3",
   "language": "python",
   "name": "python3"
  },
  "language_info": {
   "codemirror_mode": {
    "name": "ipython",
    "version": 3
   },
   "file_extension": ".py",
   "mimetype": "text/x-python",
   "name": "python",
   "nbconvert_exporter": "python",
   "pygments_lexer": "ipython3",
   "version": "3.6.0"
  }
 },
 "nbformat": 4,
 "nbformat_minor": 2
}
